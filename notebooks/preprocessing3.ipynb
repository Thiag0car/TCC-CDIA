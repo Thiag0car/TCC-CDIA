{
 "cells": [
  {
   "cell_type": "code",
   "execution_count": 32,
   "metadata": {},
   "outputs": [],
   "source": [
    "import pandas as pd\n",
    "import numpy as np\n",
    "import cv2\n",
    "import os\n",
    "from ultralytics import YOLO"
   ]
  },
  {
   "cell_type": "code",
   "execution_count": 33,
   "metadata": {},
   "outputs": [],
   "source": [
    "model = YOLO('../models/yolo/yolov8m.pt')"
   ]
  },
  {
   "cell_type": "code",
   "execution_count": 35,
   "metadata": {},
   "outputs": [],
   "source": [
    "import cv2\n",
    "import numpy as np\n",
    "from datetime import datetime\n",
    "from torchvision import transforms\n",
    "from PIL import Image\n",
    "\n",
    "class PredPipe():\n",
    "    def __init__(self, model, image_path, noise, blur):\n",
    "        self.model = model\n",
    "        self.image_path = image_path\n",
    "        self.image = cv2.imread(image_path)\n",
    "        self.name = image_path.split('/')[-1].split('.')[0]\n",
    "        self.results = {}\n",
    "        self.model_scores = []\n",
    "        self.noise_and_blur = {\n",
    "            'noise_pctg': noise,\n",
    "            'blur_pctg': blur\n",
    "        }\n",
    "        self.timestamp = str(int(datetime.timestamp(datetime.now())))\n",
    "\n",
    "    def add_noise_and_blur(self, save=False):\n",
    "        image = cv2.imread(self.image_path)\n",
    "        image = cv2.cvtColor(image, cv2.COLOR_BGR2RGB)\n",
    "        image = image.astype(np.float32) / 255.0\n",
    "\n",
    "        noise = np.random.uniform(low=0.0, high=1.0, size=image.shape)\n",
    "        noise_mask = np.random.binomial(1, self.noise_and_blur['noise_pctg'], size=image.shape[:-1])\n",
    "        noise_mask = np.expand_dims(noise_mask, axis=-1)\n",
    "        noise_mask = np.repeat(noise_mask, 3, axis=-1)\n",
    "        image = noise_mask * noise + (1 - noise_mask) * image\n",
    "        image = (image * 255.0).astype(np.uint8)\n",
    "        noisy_image = cv2.cvtColor(image, cv2.COLOR_RGB2BGR)\n",
    "\n",
    "        if save:\n",
    "            noisy_image_path = f\"../data/processed/noisy/{self.name}_{str(self.noise_and_blur['noise_pctg'])}_noisy_{self.timestamp}.jpg\"\n",
    "            cv2.imwrite(noisy_image_path, noisy_image)\n",
    "\n",
    "        return image, noisy_image_path\n",
    "\n",
    "    def save_traffic_lights(self, image, result, image_path, timestamp):\n",
    "        output_folder = \"../data/processed/outputs/semafaros/standard/\"\n",
    "        traffic_lights = []  # Lista para salvar os semáforos detectados\n",
    "\n",
    "        for box in result.boxes:\n",
    "            class_id = result.names[box.cls[0].item()]\n",
    "            if class_id == \"traffic light\":\n",
    "                cords = box.xyxy[0].tolist()\n",
    "                cords = [int(round(x)) for x in cords]\n",
    "\n",
    "                # Ajuste as coordenadas para garantir que estejam dentro dos limites da imagem\n",
    "                cords[0] = max(0, cords[0])\n",
    "                cords[1] = max(0, cords[1])\n",
    "                cords[2] = min(image.shape[1], cords[2])\n",
    "                cords[3] = min(image.shape[0], cords[3])\n",
    "\n",
    "                traffic_light_image = image[cords[1]:cords[3], cords[0]:cords[2]]\n",
    "\n",
    "                if traffic_light_image.shape[0] > 0 and traffic_light_image.shape[1] > 0:\n",
    "                    # Certifique-se de que a região recortada não é vazia\n",
    "                    traffic_lights.append(traffic_light_image)\n",
    "\n",
    "        if not traffic_lights:\n",
    "            raise ValueError(\"Nenhum semáforo detectado na imagem.\")\n",
    "\n",
    "        # Nome da foto original\n",
    "        image_name = os.path.splitext(os.path.basename(image_path))[0]\n",
    "        \n",
    "        for i, traffic_light_image in enumerate(traffic_lights):\n",
    "            # Se houver mais de um semáforo na mesma foto, inclua um índice entre parênteses\n",
    "            if i > 0:\n",
    "                traffic_light_filename = f\"traffic_light_{image_name}({i}).jpg\"\n",
    "            else:\n",
    "                traffic_light_filename = f\"traffic_light_{image_name}.jpg\"\n",
    "            \n",
    "            traffic_light_path = os.path.join(output_folder, traffic_light_filename)\n",
    "            \n",
    "            # Verifique se o arquivo já existe antes de salvá-lo\n",
    "            if not os.path.exists(traffic_light_path):\n",
    "                cv2.imwrite(traffic_light_path, traffic_light_image)\n",
    "                print(f\"Semáforo {i + 1} da imagem {image_name} salvo em {traffic_light_path}\")\n",
    "            else:\n",
    "                print(f\"Semáforo {i + 1} da imagem {image_name} já existe em {traffic_light_path}. Não foi salvo novamente.\")\n",
    "\n",
    "\n",
    "    def predict_image(self, add_noise=False, save=True):\n",
    "        if add_noise:\n",
    "            image, noisy_image_path = self.add_noise_and_blur(save)\n",
    "            results = self.model.predict(noisy_image_path)\n",
    "            result = results[0]\n",
    "            if save:\n",
    "                predicted_image_path = f\"../data/processed/outputs/{self.name}_{str(self.noise_and_blur['noise_pctg'])}_noisy_predicted_{self.timestamp}.jpg\"\n",
    "        else:\n",
    "            results = self.model.predict(self.image_path)\n",
    "            result = results[0]\n",
    "            if save:\n",
    "                predicted_image_path = f\"../data/processed/outputs/{self.name}_predicted_{self.timestamp}.jpg\"\n",
    "\n",
    "        img = cv2.imread(self.image_path) if not add_noise else cv2.imread(noisy_image_path)\n",
    "\n",
    "        for box in result.boxes:\n",
    "            class_id = result.names[box.cls[0].item()]\n",
    "            cords = box.xyxy[0].tolist()\n",
    "            cords = [int(round(x)) for x in cords]\n",
    "            conf = round(box.conf[0].item(), 2)\n",
    "\n",
    "            # Desenhe um rótulo com confiança, mas sem bordas verdes\n",
    "            label = f\"{class_id} {conf}\"\n",
    "            font = cv2.FONT_HERSHEY_SIMPLEX\n",
    "            font_scale = 0.5\n",
    "            font_thickness = 1\n",
    "            font_color = (0, 0, 255)\n",
    "            background_color = (0, 0, 0)\n",
    "            label_size, baseline = cv2.getTextSize(label, font, font_scale, font_thickness)\n",
    "            label_origin = (cords[0], cords[1] - label_size[1])\n",
    "            cv2.rectangle(img, (cords[0], cords[1]), (cords[0] + label_size[0], cords[1] - label_size[1]), background_color, -1)\n",
    "            cv2.putText(img, label, label_origin, font, font_scale, font_color, font_thickness)\n",
    "\n",
    "        if save:\n",
    "            cv2.imwrite(predicted_image_path, img)\n",
    "\n",
    "        self.save_traffic_lights(img, result, self.image_path, self.timestamp)\n",
    "\n",
    "        return img, self.results\n"
   ]
  },
  {
   "cell_type": "code",
   "execution_count": 36,
   "metadata": {},
   "outputs": [
    {
     "name": "stderr",
     "output_type": "stream",
     "text": [
      "\n",
      "image 1/1 c:\\Users\\Thiago\\OneDrive\\Documentos\\Facul\\6 Sexto semestre\\TCC\\TCC-CDIA\\notebooks\\..\\data\\frames\\images\\100_original.jpg: 384x640 6 cars, 2 traffic lights, 541.5ms\n",
      "Speed: 3.0ms preprocess, 541.5ms inference, 2.0ms postprocess per image at shape (1, 3, 384, 640)\n",
      "\n"
     ]
    },
    {
     "name": "stdout",
     "output_type": "stream",
     "text": [
      "Semáforo 1 da imagem 100_original já existe em ../data/processed/outputs/semafaros/standard/traffic_light_100_original.jpg. Não foi salvo novamente.\n",
      "Semáforo 2 da imagem 100_original já existe em ../data/processed/outputs/semafaros/standard/traffic_light_100_original(1).jpg. Não foi salvo novamente.\n"
     ]
    },
    {
     "name": "stderr",
     "output_type": "stream",
     "text": [
      "image 1/1 c:\\Users\\Thiago\\OneDrive\\Documentos\\Facul\\6 Sexto semestre\\TCC\\TCC-CDIA\\notebooks\\..\\data\\frames\\images\\101_original.jpg: 384x640 10 persons, 4 cars, 3 traffic lights, 525.6ms\n",
      "Speed: 2.0ms preprocess, 525.6ms inference, 2.0ms postprocess per image at shape (1, 3, 384, 640)\n",
      "\n"
     ]
    },
    {
     "name": "stdout",
     "output_type": "stream",
     "text": [
      "Semáforo 1 da imagem 101_original já existe em ../data/processed/outputs/semafaros/standard/traffic_light_101_original.jpg. Não foi salvo novamente.\n",
      "Semáforo 2 da imagem 101_original já existe em ../data/processed/outputs/semafaros/standard/traffic_light_101_original(1).jpg. Não foi salvo novamente.\n",
      "Semáforo 3 da imagem 101_original já existe em ../data/processed/outputs/semafaros/standard/traffic_light_101_original(2).jpg. Não foi salvo novamente.\n"
     ]
    },
    {
     "name": "stderr",
     "output_type": "stream",
     "text": [
      "image 1/1 c:\\Users\\Thiago\\OneDrive\\Documentos\\Facul\\6 Sexto semestre\\TCC\\TCC-CDIA\\notebooks\\..\\data\\frames\\images\\102_original.jpg: 384x640 6 cars, 3 traffic lights, 517.6ms\n",
      "Speed: 3.0ms preprocess, 517.6ms inference, 2.0ms postprocess per image at shape (1, 3, 384, 640)\n",
      "\n"
     ]
    },
    {
     "name": "stdout",
     "output_type": "stream",
     "text": [
      "Semáforo 1 da imagem 102_original já existe em ../data/processed/outputs/semafaros/standard/traffic_light_102_original.jpg. Não foi salvo novamente.\n",
      "Semáforo 2 da imagem 102_original já existe em ../data/processed/outputs/semafaros/standard/traffic_light_102_original(1).jpg. Não foi salvo novamente.\n",
      "Semáforo 3 da imagem 102_original já existe em ../data/processed/outputs/semafaros/standard/traffic_light_102_original(2).jpg. Não foi salvo novamente.\n"
     ]
    },
    {
     "name": "stderr",
     "output_type": "stream",
     "text": [
      "image 1/1 c:\\Users\\Thiago\\OneDrive\\Documentos\\Facul\\6 Sexto semestre\\TCC\\TCC-CDIA\\notebooks\\..\\data\\frames\\images\\103_original.jpg: 384x640 4 persons, 8 cars, 2 traffic lights, 1 stop sign, 483.7ms\n",
      "Speed: 3.0ms preprocess, 483.7ms inference, 2.0ms postprocess per image at shape (1, 3, 384, 640)\n",
      "\n"
     ]
    },
    {
     "name": "stdout",
     "output_type": "stream",
     "text": [
      "Semáforo 1 da imagem 103_original já existe em ../data/processed/outputs/semafaros/standard/traffic_light_103_original.jpg. Não foi salvo novamente.\n",
      "Semáforo 2 da imagem 103_original já existe em ../data/processed/outputs/semafaros/standard/traffic_light_103_original(1).jpg. Não foi salvo novamente.\n"
     ]
    },
    {
     "name": "stderr",
     "output_type": "stream",
     "text": [
      "image 1/1 c:\\Users\\Thiago\\OneDrive\\Documentos\\Facul\\6 Sexto semestre\\TCC\\TCC-CDIA\\notebooks\\..\\data\\frames\\images\\104_original.jpg: 384x640 6 cars, 1 traffic light, 466.8ms\n",
      "Speed: 3.0ms preprocess, 466.8ms inference, 1.0ms postprocess per image at shape (1, 3, 384, 640)\n",
      "\n"
     ]
    },
    {
     "name": "stdout",
     "output_type": "stream",
     "text": [
      "Semáforo 1 da imagem 104_original já existe em ../data/processed/outputs/semafaros/standard/traffic_light_104_original.jpg. Não foi salvo novamente.\n"
     ]
    },
    {
     "name": "stderr",
     "output_type": "stream",
     "text": [
      "image 1/1 c:\\Users\\Thiago\\OneDrive\\Documentos\\Facul\\6 Sexto semestre\\TCC\\TCC-CDIA\\notebooks\\..\\data\\frames\\images\\105_original.jpg: 384x640 4 cars, 1 traffic light, 578.6ms\n",
      "Speed: 2.0ms preprocess, 578.6ms inference, 5.0ms postprocess per image at shape (1, 3, 384, 640)\n",
      "\n"
     ]
    },
    {
     "name": "stdout",
     "output_type": "stream",
     "text": [
      "Semáforo 1 da imagem 105_original já existe em ../data/processed/outputs/semafaros/standard/traffic_light_105_original.jpg. Não foi salvo novamente.\n"
     ]
    },
    {
     "name": "stderr",
     "output_type": "stream",
     "text": [
      "image 1/1 c:\\Users\\Thiago\\OneDrive\\Documentos\\Facul\\6 Sexto semestre\\TCC\\TCC-CDIA\\notebooks\\..\\data\\frames\\images\\106_original.jpg: 384x640 5 cars, 1 traffic light, 503.6ms\n",
      "Speed: 5.0ms preprocess, 503.6ms inference, 1.0ms postprocess per image at shape (1, 3, 384, 640)\n",
      "\n"
     ]
    },
    {
     "name": "stdout",
     "output_type": "stream",
     "text": [
      "Semáforo 1 da imagem 106_original já existe em ../data/processed/outputs/semafaros/standard/traffic_light_106_original.jpg. Não foi salvo novamente.\n"
     ]
    },
    {
     "name": "stderr",
     "output_type": "stream",
     "text": [
      "image 1/1 c:\\Users\\Thiago\\OneDrive\\Documentos\\Facul\\6 Sexto semestre\\TCC\\TCC-CDIA\\notebooks\\..\\data\\frames\\images\\107_original.jpg: 384x640 7 cars, 504.7ms\n",
      "Speed: 2.0ms preprocess, 504.7ms inference, 2.0ms postprocess per image at shape (1, 3, 384, 640)\n",
      "\n"
     ]
    },
    {
     "name": "stdout",
     "output_type": "stream",
     "text": [
      "Erro na imagem 107_original.jpg: Nenhum semáforo detectado na imagem.\n"
     ]
    },
    {
     "name": "stderr",
     "output_type": "stream",
     "text": [
      "image 1/1 c:\\Users\\Thiago\\OneDrive\\Documentos\\Facul\\6 Sexto semestre\\TCC\\TCC-CDIA\\notebooks\\..\\data\\frames\\images\\108_original.jpg: 384x640 7 cars, 1 traffic light, 535.8ms\n",
      "Speed: 2.0ms preprocess, 535.8ms inference, 3.0ms postprocess per image at shape (1, 3, 384, 640)\n",
      "\n"
     ]
    },
    {
     "name": "stdout",
     "output_type": "stream",
     "text": [
      "Semáforo 1 da imagem 108_original já existe em ../data/processed/outputs/semafaros/standard/traffic_light_108_original.jpg. Não foi salvo novamente.\n"
     ]
    },
    {
     "name": "stderr",
     "output_type": "stream",
     "text": [
      "image 1/1 c:\\Users\\Thiago\\OneDrive\\Documentos\\Facul\\6 Sexto semestre\\TCC\\TCC-CDIA\\notebooks\\..\\data\\frames\\images\\109_original.jpg: 384x640 5 cars, 2 traffic lights, 669.2ms\n",
      "Speed: 3.0ms preprocess, 669.2ms inference, 2.0ms postprocess per image at shape (1, 3, 384, 640)\n",
      "\n"
     ]
    },
    {
     "name": "stdout",
     "output_type": "stream",
     "text": [
      "Semáforo 1 da imagem 109_original já existe em ../data/processed/outputs/semafaros/standard/traffic_light_109_original.jpg. Não foi salvo novamente.\n",
      "Semáforo 2 da imagem 109_original já existe em ../data/processed/outputs/semafaros/standard/traffic_light_109_original(1).jpg. Não foi salvo novamente.\n"
     ]
    },
    {
     "name": "stderr",
     "output_type": "stream",
     "text": [
      "image 1/1 c:\\Users\\Thiago\\OneDrive\\Documentos\\Facul\\6 Sexto semestre\\TCC\\TCC-CDIA\\notebooks\\..\\data\\frames\\images\\10_original.jpg: 384x640 1 person, 6 cars, 599.5ms\n",
      "Speed: 2.0ms preprocess, 599.5ms inference, 2.0ms postprocess per image at shape (1, 3, 384, 640)\n",
      "\n"
     ]
    },
    {
     "name": "stdout",
     "output_type": "stream",
     "text": [
      "Erro na imagem 10_original.jpg: Nenhum semáforo detectado na imagem.\n"
     ]
    },
    {
     "name": "stderr",
     "output_type": "stream",
     "text": [
      "image 1/1 c:\\Users\\Thiago\\OneDrive\\Documentos\\Facul\\6 Sexto semestre\\TCC\\TCC-CDIA\\notebooks\\..\\data\\frames\\images\\110_original.jpg: 384x640 5 persons, 6 cars, 2 trucks, 3 traffic lights, 3 benchs, 524.6ms\n",
      "Speed: 2.0ms preprocess, 524.6ms inference, 2.0ms postprocess per image at shape (1, 3, 384, 640)\n",
      "\n"
     ]
    },
    {
     "name": "stdout",
     "output_type": "stream",
     "text": [
      "Semáforo 1 da imagem 110_original já existe em ../data/processed/outputs/semafaros/standard/traffic_light_110_original.jpg. Não foi salvo novamente.\n",
      "Semáforo 2 da imagem 110_original já existe em ../data/processed/outputs/semafaros/standard/traffic_light_110_original(1).jpg. Não foi salvo novamente.\n",
      "Semáforo 3 da imagem 110_original já existe em ../data/processed/outputs/semafaros/standard/traffic_light_110_original(2).jpg. Não foi salvo novamente.\n"
     ]
    },
    {
     "name": "stderr",
     "output_type": "stream",
     "text": [
      "image 1/1 c:\\Users\\Thiago\\OneDrive\\Documentos\\Facul\\6 Sexto semestre\\TCC\\TCC-CDIA\\notebooks\\..\\data\\frames\\images\\111_original.jpg: 384x640 6 cars, 503.6ms\n",
      "Speed: 2.0ms preprocess, 503.6ms inference, 2.0ms postprocess per image at shape (1, 3, 384, 640)\n",
      "\n"
     ]
    },
    {
     "name": "stdout",
     "output_type": "stream",
     "text": [
      "Erro na imagem 111_original.jpg: Nenhum semáforo detectado na imagem.\n"
     ]
    },
    {
     "name": "stderr",
     "output_type": "stream",
     "text": [
      "image 1/1 c:\\Users\\Thiago\\OneDrive\\Documentos\\Facul\\6 Sexto semestre\\TCC\\TCC-CDIA\\notebooks\\..\\data\\frames\\images\\112_original.jpg: 384x640 2 persons, 5 cars, 3 traffic lights, 518.6ms\n",
      "Speed: 2.0ms preprocess, 518.6ms inference, 2.0ms postprocess per image at shape (1, 3, 384, 640)\n",
      "\n"
     ]
    },
    {
     "name": "stdout",
     "output_type": "stream",
     "text": [
      "Semáforo 1 da imagem 112_original já existe em ../data/processed/outputs/semafaros/standard/traffic_light_112_original.jpg. Não foi salvo novamente.\n",
      "Semáforo 2 da imagem 112_original já existe em ../data/processed/outputs/semafaros/standard/traffic_light_112_original(1).jpg. Não foi salvo novamente.\n",
      "Semáforo 3 da imagem 112_original já existe em ../data/processed/outputs/semafaros/standard/traffic_light_112_original(2).jpg. Não foi salvo novamente.\n"
     ]
    },
    {
     "name": "stderr",
     "output_type": "stream",
     "text": [
      "image 1/1 c:\\Users\\Thiago\\OneDrive\\Documentos\\Facul\\6 Sexto semestre\\TCC\\TCC-CDIA\\notebooks\\..\\data\\frames\\images\\113_original.jpg: 384x640 1 person, 10 cars, 1 truck, 646.3ms\n",
      "Speed: 3.0ms preprocess, 646.3ms inference, 2.0ms postprocess per image at shape (1, 3, 384, 640)\n",
      "\n"
     ]
    },
    {
     "name": "stdout",
     "output_type": "stream",
     "text": [
      "Erro na imagem 113_original.jpg: Nenhum semáforo detectado na imagem.\n"
     ]
    },
    {
     "name": "stderr",
     "output_type": "stream",
     "text": [
      "image 1/1 c:\\Users\\Thiago\\OneDrive\\Documentos\\Facul\\6 Sexto semestre\\TCC\\TCC-CDIA\\notebooks\\..\\data\\frames\\images\\114_original.jpg: 384x640 6 cars, 2 trucks, 2 benchs, 738.0ms\n",
      "Speed: 3.0ms preprocess, 738.0ms inference, 6.0ms postprocess per image at shape (1, 3, 384, 640)\n",
      "\n"
     ]
    },
    {
     "name": "stdout",
     "output_type": "stream",
     "text": [
      "Erro na imagem 114_original.jpg: Nenhum semáforo detectado na imagem.\n"
     ]
    },
    {
     "name": "stderr",
     "output_type": "stream",
     "text": [
      "image 1/1 c:\\Users\\Thiago\\OneDrive\\Documentos\\Facul\\6 Sexto semestre\\TCC\\TCC-CDIA\\notebooks\\..\\data\\frames\\images\\115_original.jpg: 384x640 9 cars, 1 truck, 529.7ms\n",
      "Speed: 3.0ms preprocess, 529.7ms inference, 2.1ms postprocess per image at shape (1, 3, 384, 640)\n",
      "\n"
     ]
    },
    {
     "name": "stdout",
     "output_type": "stream",
     "text": [
      "Erro na imagem 115_original.jpg: Nenhum semáforo detectado na imagem.\n"
     ]
    },
    {
     "name": "stderr",
     "output_type": "stream",
     "text": [
      "image 1/1 c:\\Users\\Thiago\\OneDrive\\Documentos\\Facul\\6 Sexto semestre\\TCC\\TCC-CDIA\\notebooks\\..\\data\\frames\\images\\116_original.jpg: 384x640 11 cars, 2 trucks, 502.7ms\n",
      "Speed: 2.0ms preprocess, 502.7ms inference, 2.0ms postprocess per image at shape (1, 3, 384, 640)\n",
      "\n"
     ]
    },
    {
     "name": "stdout",
     "output_type": "stream",
     "text": [
      "Erro na imagem 116_original.jpg: Nenhum semáforo detectado na imagem.\n"
     ]
    },
    {
     "name": "stderr",
     "output_type": "stream",
     "text": [
      "image 1/1 c:\\Users\\Thiago\\OneDrive\\Documentos\\Facul\\6 Sexto semestre\\TCC\\TCC-CDIA\\notebooks\\..\\data\\frames\\images\\117_original.jpg: 384x640 1 person, 9 cars, 1 traffic light, 523.6ms\n",
      "Speed: 2.0ms preprocess, 523.6ms inference, 3.0ms postprocess per image at shape (1, 3, 384, 640)\n",
      "\n"
     ]
    },
    {
     "name": "stdout",
     "output_type": "stream",
     "text": [
      "Semáforo 1 da imagem 117_original já existe em ../data/processed/outputs/semafaros/standard/traffic_light_117_original.jpg. Não foi salvo novamente.\n"
     ]
    },
    {
     "name": "stderr",
     "output_type": "stream",
     "text": [
      "image 1/1 c:\\Users\\Thiago\\OneDrive\\Documentos\\Facul\\6 Sexto semestre\\TCC\\TCC-CDIA\\notebooks\\..\\data\\frames\\images\\118_original.jpg: 384x640 2 persons, 7 cars, 1 truck, 3 traffic lights, 1 stop sign, 2 benchs, 470.7ms\n",
      "Speed: 4.0ms preprocess, 470.7ms inference, 2.0ms postprocess per image at shape (1, 3, 384, 640)\n",
      "\n"
     ]
    },
    {
     "name": "stdout",
     "output_type": "stream",
     "text": [
      "Semáforo 1 da imagem 118_original já existe em ../data/processed/outputs/semafaros/standard/traffic_light_118_original.jpg. Não foi salvo novamente.\n",
      "Semáforo 2 da imagem 118_original já existe em ../data/processed/outputs/semafaros/standard/traffic_light_118_original(1).jpg. Não foi salvo novamente.\n",
      "Semáforo 3 da imagem 118_original já existe em ../data/processed/outputs/semafaros/standard/traffic_light_118_original(2).jpg. Não foi salvo novamente.\n"
     ]
    },
    {
     "name": "stderr",
     "output_type": "stream",
     "text": [
      "image 1/1 c:\\Users\\Thiago\\OneDrive\\Documentos\\Facul\\6 Sexto semestre\\TCC\\TCC-CDIA\\notebooks\\..\\data\\frames\\images\\119_original.jpg: 384x640 1 person, 11 cars, 1 traffic light, 465.9ms\n",
      "Speed: 3.0ms preprocess, 465.9ms inference, 2.0ms postprocess per image at shape (1, 3, 384, 640)\n",
      "\n"
     ]
    },
    {
     "name": "stdout",
     "output_type": "stream",
     "text": [
      "Semáforo 1 da imagem 119_original já existe em ../data/processed/outputs/semafaros/standard/traffic_light_119_original.jpg. Não foi salvo novamente.\n"
     ]
    },
    {
     "name": "stderr",
     "output_type": "stream",
     "text": [
      "image 1/1 c:\\Users\\Thiago\\OneDrive\\Documentos\\Facul\\6 Sexto semestre\\TCC\\TCC-CDIA\\notebooks\\..\\data\\frames\\images\\11_original.jpg: 384x640 1 car, 1 stop sign, 502.6ms\n",
      "Speed: 3.0ms preprocess, 502.6ms inference, 2.0ms postprocess per image at shape (1, 3, 384, 640)\n",
      "\n"
     ]
    },
    {
     "name": "stdout",
     "output_type": "stream",
     "text": [
      "Erro na imagem 11_original.jpg: Nenhum semáforo detectado na imagem.\n"
     ]
    },
    {
     "name": "stderr",
     "output_type": "stream",
     "text": [
      "image 1/1 c:\\Users\\Thiago\\OneDrive\\Documentos\\Facul\\6 Sexto semestre\\TCC\\TCC-CDIA\\notebooks\\..\\data\\frames\\images\\120_original.jpg: 384x640 1 person, 7 cars, 1 traffic light, 475.7ms\n",
      "Speed: 4.0ms preprocess, 475.7ms inference, 2.0ms postprocess per image at shape (1, 3, 384, 640)\n",
      "\n"
     ]
    },
    {
     "name": "stdout",
     "output_type": "stream",
     "text": [
      "Semáforo 1 da imagem 120_original já existe em ../data/processed/outputs/semafaros/standard/traffic_light_120_original.jpg. Não foi salvo novamente.\n"
     ]
    },
    {
     "name": "stderr",
     "output_type": "stream",
     "text": [
      "image 1/1 c:\\Users\\Thiago\\OneDrive\\Documentos\\Facul\\6 Sexto semestre\\TCC\\TCC-CDIA\\notebooks\\..\\data\\frames\\images\\121_original.jpg: 384x640 6 cars, 495.6ms\n",
      "Speed: 2.0ms preprocess, 495.6ms inference, 1.0ms postprocess per image at shape (1, 3, 384, 640)\n",
      "\n"
     ]
    },
    {
     "name": "stdout",
     "output_type": "stream",
     "text": [
      "Erro na imagem 121_original.jpg: Nenhum semáforo detectado na imagem.\n"
     ]
    },
    {
     "name": "stderr",
     "output_type": "stream",
     "text": [
      "image 1/1 c:\\Users\\Thiago\\OneDrive\\Documentos\\Facul\\6 Sexto semestre\\TCC\\TCC-CDIA\\notebooks\\..\\data\\frames\\images\\122_original.jpg: 384x640 5 cars, 1 truck, 478.7ms\n",
      "Speed: 3.0ms preprocess, 478.7ms inference, 2.0ms postprocess per image at shape (1, 3, 384, 640)\n",
      "\n"
     ]
    },
    {
     "name": "stdout",
     "output_type": "stream",
     "text": [
      "Erro na imagem 122_original.jpg: Nenhum semáforo detectado na imagem.\n"
     ]
    },
    {
     "name": "stderr",
     "output_type": "stream",
     "text": [
      "image 1/1 c:\\Users\\Thiago\\OneDrive\\Documentos\\Facul\\6 Sexto semestre\\TCC\\TCC-CDIA\\notebooks\\..\\data\\frames\\images\\123_original.jpg: 384x640 3 persons, 3 cars, 1 traffic light, 612.5ms\n",
      "Speed: 6.0ms preprocess, 612.5ms inference, 2.0ms postprocess per image at shape (1, 3, 384, 640)\n",
      "\n"
     ]
    },
    {
     "name": "stdout",
     "output_type": "stream",
     "text": [
      "Semáforo 1 da imagem 123_original já existe em ../data/processed/outputs/semafaros/standard/traffic_light_123_original.jpg. Não foi salvo novamente.\n"
     ]
    },
    {
     "name": "stderr",
     "output_type": "stream",
     "text": [
      "image 1/1 c:\\Users\\Thiago\\OneDrive\\Documentos\\Facul\\6 Sexto semestre\\TCC\\TCC-CDIA\\notebooks\\..\\data\\frames\\images\\124_original.jpg: 384x640 5 cars, 1 truck, 513.7ms\n",
      "Speed: 2.0ms preprocess, 513.7ms inference, 2.0ms postprocess per image at shape (1, 3, 384, 640)\n",
      "\n"
     ]
    },
    {
     "name": "stdout",
     "output_type": "stream",
     "text": [
      "Erro na imagem 124_original.jpg: Nenhum semáforo detectado na imagem.\n"
     ]
    },
    {
     "name": "stderr",
     "output_type": "stream",
     "text": [
      "image 1/1 c:\\Users\\Thiago\\OneDrive\\Documentos\\Facul\\6 Sexto semestre\\TCC\\TCC-CDIA\\notebooks\\..\\data\\frames\\images\\125_original.jpg: 384x640 1 person, 8 cars, 1 motorcycle, 1 truck, 1 traffic light, 474.7ms\n",
      "Speed: 2.0ms preprocess, 474.7ms inference, 2.0ms postprocess per image at shape (1, 3, 384, 640)\n",
      "\n"
     ]
    },
    {
     "name": "stdout",
     "output_type": "stream",
     "text": [
      "Semáforo 1 da imagem 125_original já existe em ../data/processed/outputs/semafaros/standard/traffic_light_125_original.jpg. Não foi salvo novamente.\n"
     ]
    },
    {
     "name": "stderr",
     "output_type": "stream",
     "text": [
      "image 1/1 c:\\Users\\Thiago\\OneDrive\\Documentos\\Facul\\6 Sexto semestre\\TCC\\TCC-CDIA\\notebooks\\..\\data\\frames\\images\\126_original.jpg: 384x640 8 persons, 6 cars, 2 traffic lights, 3 benchs, 473.0ms\n",
      "Speed: 2.0ms preprocess, 473.0ms inference, 2.0ms postprocess per image at shape (1, 3, 384, 640)\n",
      "\n"
     ]
    },
    {
     "name": "stdout",
     "output_type": "stream",
     "text": [
      "Semáforo 1 da imagem 126_original já existe em ../data/processed/outputs/semafaros/standard/traffic_light_126_original.jpg. Não foi salvo novamente.\n",
      "Semáforo 2 da imagem 126_original já existe em ../data/processed/outputs/semafaros/standard/traffic_light_126_original(1).jpg. Não foi salvo novamente.\n"
     ]
    },
    {
     "name": "stderr",
     "output_type": "stream",
     "text": [
      "image 1/1 c:\\Users\\Thiago\\OneDrive\\Documentos\\Facul\\6 Sexto semestre\\TCC\\TCC-CDIA\\notebooks\\..\\data\\frames\\images\\127_original.jpg: 384x640 9 cars, 1 truck, 1 traffic light, 491.9ms\n",
      "Speed: 3.0ms preprocess, 491.9ms inference, 2.0ms postprocess per image at shape (1, 3, 384, 640)\n",
      "\n"
     ]
    },
    {
     "name": "stdout",
     "output_type": "stream",
     "text": [
      "Semáforo 1 da imagem 127_original já existe em ../data/processed/outputs/semafaros/standard/traffic_light_127_original.jpg. Não foi salvo novamente.\n"
     ]
    },
    {
     "name": "stderr",
     "output_type": "stream",
     "text": [
      "image 1/1 c:\\Users\\Thiago\\OneDrive\\Documentos\\Facul\\6 Sexto semestre\\TCC\\TCC-CDIA\\notebooks\\..\\data\\frames\\images\\128_original.jpg: 384x640 1 person, 7 cars, 1 motorcycle, 1 truck, 486.7ms\n",
      "Speed: 2.0ms preprocess, 486.7ms inference, 2.0ms postprocess per image at shape (1, 3, 384, 640)\n",
      "\n"
     ]
    },
    {
     "name": "stdout",
     "output_type": "stream",
     "text": [
      "Erro na imagem 128_original.jpg: Nenhum semáforo detectado na imagem.\n"
     ]
    },
    {
     "name": "stderr",
     "output_type": "stream",
     "text": [
      "image 1/1 c:\\Users\\Thiago\\OneDrive\\Documentos\\Facul\\6 Sexto semestre\\TCC\\TCC-CDIA\\notebooks\\..\\data\\frames\\images\\129_original.jpg: 384x640 10 persons, 2 cars, 5 traffic lights, 1 bench, 473.7ms\n",
      "Speed: 3.0ms preprocess, 473.7ms inference, 2.0ms postprocess per image at shape (1, 3, 384, 640)\n",
      "\n"
     ]
    },
    {
     "name": "stdout",
     "output_type": "stream",
     "text": [
      "Semáforo 1 da imagem 129_original já existe em ../data/processed/outputs/semafaros/standard/traffic_light_129_original.jpg. Não foi salvo novamente.\n",
      "Semáforo 2 da imagem 129_original já existe em ../data/processed/outputs/semafaros/standard/traffic_light_129_original(1).jpg. Não foi salvo novamente.\n",
      "Semáforo 3 da imagem 129_original já existe em ../data/processed/outputs/semafaros/standard/traffic_light_129_original(2).jpg. Não foi salvo novamente.\n",
      "Semáforo 4 da imagem 129_original já existe em ../data/processed/outputs/semafaros/standard/traffic_light_129_original(3).jpg. Não foi salvo novamente.\n",
      "Semáforo 5 da imagem 129_original já existe em ../data/processed/outputs/semafaros/standard/traffic_light_129_original(4).jpg. Não foi salvo novamente.\n"
     ]
    },
    {
     "name": "stderr",
     "output_type": "stream",
     "text": [
      "image 1/1 c:\\Users\\Thiago\\OneDrive\\Documentos\\Facul\\6 Sexto semestre\\TCC\\TCC-CDIA\\notebooks\\..\\data\\frames\\images\\12_original.jpg: 384x640 1 person, 6 cars, 1 truck, 1 traffic light, 486.9ms\n",
      "Speed: 1.0ms preprocess, 486.9ms inference, 3.2ms postprocess per image at shape (1, 3, 384, 640)\n",
      "\n"
     ]
    },
    {
     "name": "stdout",
     "output_type": "stream",
     "text": [
      "Semáforo 1 da imagem 12_original já existe em ../data/processed/outputs/semafaros/standard/traffic_light_12_original.jpg. Não foi salvo novamente.\n"
     ]
    },
    {
     "name": "stderr",
     "output_type": "stream",
     "text": [
      "image 1/1 c:\\Users\\Thiago\\OneDrive\\Documentos\\Facul\\6 Sexto semestre\\TCC\\TCC-CDIA\\notebooks\\..\\data\\frames\\images\\130_original.jpg: 384x640 3 persons, 6 cars, 1 motorcycle, 1 bus, 451.8ms\n",
      "Speed: 2.0ms preprocess, 451.8ms inference, 2.0ms postprocess per image at shape (1, 3, 384, 640)\n",
      "\n"
     ]
    },
    {
     "name": "stdout",
     "output_type": "stream",
     "text": [
      "Erro na imagem 130_original.jpg: Nenhum semáforo detectado na imagem.\n"
     ]
    },
    {
     "name": "stderr",
     "output_type": "stream",
     "text": [
      "image 1/1 c:\\Users\\Thiago\\OneDrive\\Documentos\\Facul\\6 Sexto semestre\\TCC\\TCC-CDIA\\notebooks\\..\\data\\frames\\images\\131_original.jpg: 384x640 5 persons, 8 cars, 1 motorcycle, 1 bus, 1 traffic light, 501.9ms\n",
      "Speed: 23.9ms preprocess, 501.9ms inference, 2.0ms postprocess per image at shape (1, 3, 384, 640)\n",
      "\n"
     ]
    },
    {
     "name": "stdout",
     "output_type": "stream",
     "text": [
      "Semáforo 1 da imagem 131_original já existe em ../data/processed/outputs/semafaros/standard/traffic_light_131_original.jpg. Não foi salvo novamente.\n"
     ]
    },
    {
     "name": "stderr",
     "output_type": "stream",
     "text": [
      "image 1/1 c:\\Users\\Thiago\\OneDrive\\Documentos\\Facul\\6 Sexto semestre\\TCC\\TCC-CDIA\\notebooks\\..\\data\\frames\\images\\132_original.jpg: 384x640 3 persons, 7 cars, 1 motorcycle, 1 bus, 1 traffic light, 470.7ms\n",
      "Speed: 2.0ms preprocess, 470.7ms inference, 1.0ms postprocess per image at shape (1, 3, 384, 640)\n",
      "\n"
     ]
    },
    {
     "name": "stdout",
     "output_type": "stream",
     "text": [
      "Semáforo 1 da imagem 132_original já existe em ../data/processed/outputs/semafaros/standard/traffic_light_132_original.jpg. Não foi salvo novamente.\n"
     ]
    },
    {
     "name": "stderr",
     "output_type": "stream",
     "text": [
      "image 1/1 c:\\Users\\Thiago\\OneDrive\\Documentos\\Facul\\6 Sexto semestre\\TCC\\TCC-CDIA\\notebooks\\..\\data\\frames\\images\\133_original.jpg: 384x640 2 persons, 11 cars, 533.6ms\n",
      "Speed: 2.0ms preprocess, 533.6ms inference, 2.0ms postprocess per image at shape (1, 3, 384, 640)\n",
      "\n"
     ]
    },
    {
     "name": "stdout",
     "output_type": "stream",
     "text": [
      "Erro na imagem 133_original.jpg: Nenhum semáforo detectado na imagem.\n"
     ]
    },
    {
     "name": "stderr",
     "output_type": "stream",
     "text": [
      "image 1/1 c:\\Users\\Thiago\\OneDrive\\Documentos\\Facul\\6 Sexto semestre\\TCC\\TCC-CDIA\\notebooks\\..\\data\\frames\\images\\134_original.jpg: 384x640 2 persons, 1 car, 471.7ms\n",
      "Speed: 3.0ms preprocess, 471.7ms inference, 2.0ms postprocess per image at shape (1, 3, 384, 640)\n",
      "\n"
     ]
    },
    {
     "name": "stdout",
     "output_type": "stream",
     "text": [
      "Erro na imagem 134_original.jpg: Nenhum semáforo detectado na imagem.\n"
     ]
    },
    {
     "name": "stderr",
     "output_type": "stream",
     "text": [
      "image 1/1 c:\\Users\\Thiago\\OneDrive\\Documentos\\Facul\\6 Sexto semestre\\TCC\\TCC-CDIA\\notebooks\\..\\data\\frames\\images\\135_original.jpg: 384x640 1 person, 12 cars, 1 truck, 474.0ms\n",
      "Speed: 2.0ms preprocess, 474.0ms inference, 2.0ms postprocess per image at shape (1, 3, 384, 640)\n",
      "\n"
     ]
    },
    {
     "name": "stdout",
     "output_type": "stream",
     "text": [
      "Erro na imagem 135_original.jpg: Nenhum semáforo detectado na imagem.\n"
     ]
    },
    {
     "name": "stderr",
     "output_type": "stream",
     "text": [
      "image 1/1 c:\\Users\\Thiago\\OneDrive\\Documentos\\Facul\\6 Sexto semestre\\TCC\\TCC-CDIA\\notebooks\\..\\data\\frames\\images\\136_original.jpg: 384x640 6 persons, 9 cars, 1 motorcycle, 1 umbrella, 471.9ms\n",
      "Speed: 2.0ms preprocess, 471.9ms inference, 2.0ms postprocess per image at shape (1, 3, 384, 640)\n",
      "\n"
     ]
    },
    {
     "name": "stdout",
     "output_type": "stream",
     "text": [
      "Erro na imagem 136_original.jpg: Nenhum semáforo detectado na imagem.\n"
     ]
    },
    {
     "name": "stderr",
     "output_type": "stream",
     "text": [
      "image 1/1 c:\\Users\\Thiago\\OneDrive\\Documentos\\Facul\\6 Sexto semestre\\TCC\\TCC-CDIA\\notebooks\\..\\data\\frames\\images\\137_original.jpg: 384x640 1 person, 11 cars, 434.9ms\n",
      "Speed: 2.0ms preprocess, 434.9ms inference, 2.0ms postprocess per image at shape (1, 3, 384, 640)\n",
      "\n"
     ]
    },
    {
     "name": "stdout",
     "output_type": "stream",
     "text": [
      "Erro na imagem 137_original.jpg: Nenhum semáforo detectado na imagem.\n"
     ]
    },
    {
     "name": "stderr",
     "output_type": "stream",
     "text": [
      "image 1/1 c:\\Users\\Thiago\\OneDrive\\Documentos\\Facul\\6 Sexto semestre\\TCC\\TCC-CDIA\\notebooks\\..\\data\\frames\\images\\138_original.jpg: 384x640 3 persons, 4 cars, 1 motorcycle, 2 traffic lights, 506.6ms\n",
      "Speed: 2.0ms preprocess, 506.6ms inference, 2.0ms postprocess per image at shape (1, 3, 384, 640)\n",
      "\n"
     ]
    },
    {
     "name": "stdout",
     "output_type": "stream",
     "text": [
      "Semáforo 1 da imagem 138_original já existe em ../data/processed/outputs/semafaros/standard/traffic_light_138_original.jpg. Não foi salvo novamente.\n",
      "Semáforo 2 da imagem 138_original já existe em ../data/processed/outputs/semafaros/standard/traffic_light_138_original(1).jpg. Não foi salvo novamente.\n"
     ]
    },
    {
     "name": "stderr",
     "output_type": "stream",
     "text": [
      "image 1/1 c:\\Users\\Thiago\\OneDrive\\Documentos\\Facul\\6 Sexto semestre\\TCC\\TCC-CDIA\\notebooks\\..\\data\\frames\\images\\139_original.jpg: 384x640 2 persons, 1 bicycle, 7 cars, 2 traffic lights, 484.0ms\n",
      "Speed: 2.0ms preprocess, 484.0ms inference, 2.0ms postprocess per image at shape (1, 3, 384, 640)\n",
      "\n"
     ]
    },
    {
     "name": "stdout",
     "output_type": "stream",
     "text": [
      "Semáforo 1 da imagem 139_original já existe em ../data/processed/outputs/semafaros/standard/traffic_light_139_original.jpg. Não foi salvo novamente.\n",
      "Semáforo 2 da imagem 139_original já existe em ../data/processed/outputs/semafaros/standard/traffic_light_139_original(1).jpg. Não foi salvo novamente.\n"
     ]
    },
    {
     "name": "stderr",
     "output_type": "stream",
     "text": [
      "image 1/1 c:\\Users\\Thiago\\OneDrive\\Documentos\\Facul\\6 Sexto semestre\\TCC\\TCC-CDIA\\notebooks\\..\\data\\frames\\images\\13_original.jpg: 384x640 1 person, 11 cars, 1 motorcycle, 1 truck, 1 traffic light, 529.6ms\n",
      "Speed: 2.0ms preprocess, 529.6ms inference, 2.0ms postprocess per image at shape (1, 3, 384, 640)\n",
      "\n"
     ]
    },
    {
     "name": "stdout",
     "output_type": "stream",
     "text": [
      "Semáforo 1 da imagem 13_original já existe em ../data/processed/outputs/semafaros/standard/traffic_light_13_original.jpg. Não foi salvo novamente.\n"
     ]
    },
    {
     "name": "stderr",
     "output_type": "stream",
     "text": [
      "image 1/1 c:\\Users\\Thiago\\OneDrive\\Documentos\\Facul\\6 Sexto semestre\\TCC\\TCC-CDIA\\notebooks\\..\\data\\frames\\images\\140_original.jpg: 384x640 6 cars, 1 bus, 1 traffic light, 472.9ms\n",
      "Speed: 2.0ms preprocess, 472.9ms inference, 1.0ms postprocess per image at shape (1, 3, 384, 640)\n",
      "\n"
     ]
    },
    {
     "name": "stdout",
     "output_type": "stream",
     "text": [
      "Semáforo 1 da imagem 140_original já existe em ../data/processed/outputs/semafaros/standard/traffic_light_140_original.jpg. Não foi salvo novamente.\n"
     ]
    },
    {
     "name": "stderr",
     "output_type": "stream",
     "text": [
      "image 1/1 c:\\Users\\Thiago\\OneDrive\\Documentos\\Facul\\6 Sexto semestre\\TCC\\TCC-CDIA\\notebooks\\..\\data\\frames\\images\\141_original.jpg: 384x640 6 cars, 1 bus, 482.8ms\n",
      "Speed: 2.0ms preprocess, 482.8ms inference, 2.0ms postprocess per image at shape (1, 3, 384, 640)\n",
      "\n"
     ]
    },
    {
     "name": "stdout",
     "output_type": "stream",
     "text": [
      "Erro na imagem 141_original.jpg: Nenhum semáforo detectado na imagem.\n"
     ]
    },
    {
     "name": "stderr",
     "output_type": "stream",
     "text": [
      "image 1/1 c:\\Users\\Thiago\\OneDrive\\Documentos\\Facul\\6 Sexto semestre\\TCC\\TCC-CDIA\\notebooks\\..\\data\\frames\\images\\142_original.jpg: 384x640 1 person, 3 cars, 1 bus, 1 truck, 2 traffic lights, 490.7ms\n",
      "Speed: 2.0ms preprocess, 490.7ms inference, 1.0ms postprocess per image at shape (1, 3, 384, 640)\n",
      "\n"
     ]
    },
    {
     "name": "stdout",
     "output_type": "stream",
     "text": [
      "Semáforo 1 da imagem 142_original já existe em ../data/processed/outputs/semafaros/standard/traffic_light_142_original.jpg. Não foi salvo novamente.\n",
      "Semáforo 2 da imagem 142_original já existe em ../data/processed/outputs/semafaros/standard/traffic_light_142_original(1).jpg. Não foi salvo novamente.\n"
     ]
    },
    {
     "name": "stderr",
     "output_type": "stream",
     "text": [
      "image 1/1 c:\\Users\\Thiago\\OneDrive\\Documentos\\Facul\\6 Sexto semestre\\TCC\\TCC-CDIA\\notebooks\\..\\data\\frames\\images\\143_original.jpg: 384x640 1 person, 9 cars, 1 bus, 1 truck, 2 traffic lights, 494.0ms\n",
      "Speed: 1.0ms preprocess, 494.0ms inference, 3.0ms postprocess per image at shape (1, 3, 384, 640)\n",
      "\n"
     ]
    },
    {
     "name": "stdout",
     "output_type": "stream",
     "text": [
      "Semáforo 1 da imagem 143_original já existe em ../data/processed/outputs/semafaros/standard/traffic_light_143_original.jpg. Não foi salvo novamente.\n",
      "Semáforo 2 da imagem 143_original já existe em ../data/processed/outputs/semafaros/standard/traffic_light_143_original(1).jpg. Não foi salvo novamente.\n"
     ]
    },
    {
     "name": "stderr",
     "output_type": "stream",
     "text": [
      "image 1/1 c:\\Users\\Thiago\\OneDrive\\Documentos\\Facul\\6 Sexto semestre\\TCC\\TCC-CDIA\\notebooks\\..\\data\\frames\\images\\144_original.jpg: 384x640 2 persons, 8 cars, 1 bus, 1 truck, 2 traffic lights, 458.9ms\n",
      "Speed: 2.0ms preprocess, 458.9ms inference, 2.0ms postprocess per image at shape (1, 3, 384, 640)\n",
      "\n"
     ]
    },
    {
     "name": "stdout",
     "output_type": "stream",
     "text": [
      "Semáforo 1 da imagem 144_original já existe em ../data/processed/outputs/semafaros/standard/traffic_light_144_original.jpg. Não foi salvo novamente.\n",
      "Semáforo 2 da imagem 144_original já existe em ../data/processed/outputs/semafaros/standard/traffic_light_144_original(1).jpg. Não foi salvo novamente.\n"
     ]
    },
    {
     "name": "stderr",
     "output_type": "stream",
     "text": [
      "image 1/1 c:\\Users\\Thiago\\OneDrive\\Documentos\\Facul\\6 Sexto semestre\\TCC\\TCC-CDIA\\notebooks\\..\\data\\frames\\images\\145_original.jpg: 384x640 3 persons, 3 cars, 1 truck, 475.7ms\n",
      "Speed: 2.0ms preprocess, 475.7ms inference, 1.0ms postprocess per image at shape (1, 3, 384, 640)\n",
      "\n"
     ]
    },
    {
     "name": "stdout",
     "output_type": "stream",
     "text": [
      "Erro na imagem 145_original.jpg: Nenhum semáforo detectado na imagem.\n"
     ]
    },
    {
     "name": "stderr",
     "output_type": "stream",
     "text": [
      "image 1/1 c:\\Users\\Thiago\\OneDrive\\Documentos\\Facul\\6 Sexto semestre\\TCC\\TCC-CDIA\\notebooks\\..\\data\\frames\\images\\146_original.jpg: 384x640 1 person, 7 cars, 1 bus, 1 truck, 1 traffic light, 486.7ms\n",
      "Speed: 2.0ms preprocess, 486.7ms inference, 2.0ms postprocess per image at shape (1, 3, 384, 640)\n",
      "\n"
     ]
    },
    {
     "name": "stdout",
     "output_type": "stream",
     "text": [
      "Semáforo 1 da imagem 146_original já existe em ../data/processed/outputs/semafaros/standard/traffic_light_146_original.jpg. Não foi salvo novamente.\n"
     ]
    },
    {
     "name": "stderr",
     "output_type": "stream",
     "text": [
      "image 1/1 c:\\Users\\Thiago\\OneDrive\\Documentos\\Facul\\6 Sexto semestre\\TCC\\TCC-CDIA\\notebooks\\..\\data\\frames\\images\\147_original.jpg: 384x640 10 cars, 2 buss, 492.7ms\n",
      "Speed: 2.0ms preprocess, 492.7ms inference, 1.0ms postprocess per image at shape (1, 3, 384, 640)\n",
      "\n"
     ]
    },
    {
     "name": "stdout",
     "output_type": "stream",
     "text": [
      "Erro na imagem 147_original.jpg: Nenhum semáforo detectado na imagem.\n"
     ]
    },
    {
     "name": "stderr",
     "output_type": "stream",
     "text": [
      "image 1/1 c:\\Users\\Thiago\\OneDrive\\Documentos\\Facul\\6 Sexto semestre\\TCC\\TCC-CDIA\\notebooks\\..\\data\\frames\\images\\148_original.jpg: 384x640 7 cars, 2 buss, 1 traffic light, 445.8ms\n",
      "Speed: 2.0ms preprocess, 445.8ms inference, 2.0ms postprocess per image at shape (1, 3, 384, 640)\n",
      "\n"
     ]
    },
    {
     "name": "stdout",
     "output_type": "stream",
     "text": [
      "Semáforo 1 da imagem 148_original já existe em ../data/processed/outputs/semafaros/standard/traffic_light_148_original.jpg. Não foi salvo novamente.\n"
     ]
    },
    {
     "name": "stderr",
     "output_type": "stream",
     "text": [
      "image 1/1 c:\\Users\\Thiago\\OneDrive\\Documentos\\Facul\\6 Sexto semestre\\TCC\\TCC-CDIA\\notebooks\\..\\data\\frames\\images\\149_original.jpg: 384x640 4 persons, 1 bicycle, 10 cars, 1 traffic light, 559.5ms\n",
      "Speed: 2.0ms preprocess, 559.5ms inference, 1.0ms postprocess per image at shape (1, 3, 384, 640)\n",
      "\n"
     ]
    },
    {
     "name": "stdout",
     "output_type": "stream",
     "text": [
      "Semáforo 1 da imagem 149_original já existe em ../data/processed/outputs/semafaros/standard/traffic_light_149_original.jpg. Não foi salvo novamente.\n"
     ]
    },
    {
     "name": "stderr",
     "output_type": "stream",
     "text": [
      "image 1/1 c:\\Users\\Thiago\\OneDrive\\Documentos\\Facul\\6 Sexto semestre\\TCC\\TCC-CDIA\\notebooks\\..\\data\\frames\\images\\14_original.jpg: 384x640 8 cars, 1 truck, 2 traffic lights, 474.7ms\n",
      "Speed: 2.0ms preprocess, 474.7ms inference, 2.0ms postprocess per image at shape (1, 3, 384, 640)\n",
      "\n"
     ]
    },
    {
     "name": "stdout",
     "output_type": "stream",
     "text": [
      "Semáforo 1 da imagem 14_original já existe em ../data/processed/outputs/semafaros/standard/traffic_light_14_original.jpg. Não foi salvo novamente.\n",
      "Semáforo 2 da imagem 14_original já existe em ../data/processed/outputs/semafaros/standard/traffic_light_14_original(1).jpg. Não foi salvo novamente.\n"
     ]
    },
    {
     "name": "stderr",
     "output_type": "stream",
     "text": [
      "image 1/1 c:\\Users\\Thiago\\OneDrive\\Documentos\\Facul\\6 Sexto semestre\\TCC\\TCC-CDIA\\notebooks\\..\\data\\frames\\images\\150_original.jpg: 384x640 7 cars, 1 bus, 1 traffic light, 454.8ms\n",
      "Speed: 2.0ms preprocess, 454.8ms inference, 1.0ms postprocess per image at shape (1, 3, 384, 640)\n",
      "\n"
     ]
    },
    {
     "name": "stdout",
     "output_type": "stream",
     "text": [
      "Semáforo 1 da imagem 150_original já existe em ../data/processed/outputs/semafaros/standard/traffic_light_150_original.jpg. Não foi salvo novamente.\n"
     ]
    },
    {
     "name": "stderr",
     "output_type": "stream",
     "text": [
      "image 1/1 c:\\Users\\Thiago\\OneDrive\\Documentos\\Facul\\6 Sexto semestre\\TCC\\TCC-CDIA\\notebooks\\..\\data\\frames\\images\\151_original.jpg: 384x640 3 persons, 3 cars, 462.8ms\n",
      "Speed: 2.0ms preprocess, 462.8ms inference, 1.0ms postprocess per image at shape (1, 3, 384, 640)\n",
      "\n"
     ]
    },
    {
     "name": "stdout",
     "output_type": "stream",
     "text": [
      "Erro na imagem 151_original.jpg: Nenhum semáforo detectado na imagem.\n"
     ]
    },
    {
     "name": "stderr",
     "output_type": "stream",
     "text": [
      "image 1/1 c:\\Users\\Thiago\\OneDrive\\Documentos\\Facul\\6 Sexto semestre\\TCC\\TCC-CDIA\\notebooks\\..\\data\\frames\\images\\152_original.jpg: 384x640 1 person, 9 cars, 452.8ms\n",
      "Speed: 2.0ms preprocess, 452.8ms inference, 1.0ms postprocess per image at shape (1, 3, 384, 640)\n",
      "\n"
     ]
    },
    {
     "name": "stdout",
     "output_type": "stream",
     "text": [
      "Erro na imagem 152_original.jpg: Nenhum semáforo detectado na imagem.\n"
     ]
    },
    {
     "name": "stderr",
     "output_type": "stream",
     "text": [
      "image 1/1 c:\\Users\\Thiago\\OneDrive\\Documentos\\Facul\\6 Sexto semestre\\TCC\\TCC-CDIA\\notebooks\\..\\data\\frames\\images\\153_original.jpg: 384x640 1 person, 5 cars, 1 bus, 1 truck, 1 traffic light, 453.0ms\n",
      "Speed: 2.0ms preprocess, 453.0ms inference, 2.0ms postprocess per image at shape (1, 3, 384, 640)\n",
      "\n"
     ]
    },
    {
     "name": "stdout",
     "output_type": "stream",
     "text": [
      "Semáforo 1 da imagem 153_original já existe em ../data/processed/outputs/semafaros/standard/traffic_light_153_original.jpg. Não foi salvo novamente.\n"
     ]
    },
    {
     "name": "stderr",
     "output_type": "stream",
     "text": [
      "image 1/1 c:\\Users\\Thiago\\OneDrive\\Documentos\\Facul\\6 Sexto semestre\\TCC\\TCC-CDIA\\notebooks\\..\\data\\frames\\images\\154_original.jpg: 384x640 8 cars, 1 bus, 1 truck, 516.6ms\n",
      "Speed: 2.0ms preprocess, 516.6ms inference, 2.0ms postprocess per image at shape (1, 3, 384, 640)\n",
      "\n"
     ]
    },
    {
     "name": "stdout",
     "output_type": "stream",
     "text": [
      "Erro na imagem 154_original.jpg: Nenhum semáforo detectado na imagem.\n"
     ]
    },
    {
     "name": "stderr",
     "output_type": "stream",
     "text": [
      "image 1/1 c:\\Users\\Thiago\\OneDrive\\Documentos\\Facul\\6 Sexto semestre\\TCC\\TCC-CDIA\\notebooks\\..\\data\\frames\\images\\155_original.jpg: 384x640 3 persons, 11 cars, 1 traffic light, 465.7ms\n",
      "Speed: 2.0ms preprocess, 465.7ms inference, 2.0ms postprocess per image at shape (1, 3, 384, 640)\n",
      "\n"
     ]
    },
    {
     "name": "stdout",
     "output_type": "stream",
     "text": [
      "Semáforo 1 da imagem 155_original já existe em ../data/processed/outputs/semafaros/standard/traffic_light_155_original.jpg. Não foi salvo novamente.\n"
     ]
    },
    {
     "name": "stderr",
     "output_type": "stream",
     "text": [
      "image 1/1 c:\\Users\\Thiago\\OneDrive\\Documentos\\Facul\\6 Sexto semestre\\TCC\\TCC-CDIA\\notebooks\\..\\data\\frames\\images\\156_original.jpg: 384x640 3 cars, 477.7ms\n",
      "Speed: 3.0ms preprocess, 477.7ms inference, 2.0ms postprocess per image at shape (1, 3, 384, 640)\n",
      "\n"
     ]
    },
    {
     "name": "stdout",
     "output_type": "stream",
     "text": [
      "Erro na imagem 156_original.jpg: Nenhum semáforo detectado na imagem.\n"
     ]
    },
    {
     "name": "stderr",
     "output_type": "stream",
     "text": [
      "image 1/1 c:\\Users\\Thiago\\OneDrive\\Documentos\\Facul\\6 Sexto semestre\\TCC\\TCC-CDIA\\notebooks\\..\\data\\frames\\images\\157_original.jpg: 384x640 1 person, 10 cars, 2 traffic lights, 509.7ms\n",
      "Speed: 2.0ms preprocess, 509.7ms inference, 2.0ms postprocess per image at shape (1, 3, 384, 640)\n",
      "\n"
     ]
    },
    {
     "name": "stdout",
     "output_type": "stream",
     "text": [
      "Semáforo 1 da imagem 157_original já existe em ../data/processed/outputs/semafaros/standard/traffic_light_157_original.jpg. Não foi salvo novamente.\n",
      "Semáforo 2 da imagem 157_original já existe em ../data/processed/outputs/semafaros/standard/traffic_light_157_original(1).jpg. Não foi salvo novamente.\n"
     ]
    },
    {
     "name": "stderr",
     "output_type": "stream",
     "text": [
      "image 1/1 c:\\Users\\Thiago\\OneDrive\\Documentos\\Facul\\6 Sexto semestre\\TCC\\TCC-CDIA\\notebooks\\..\\data\\frames\\images\\158_original.jpg: 384x640 10 cars, 2 traffic lights, 444.8ms\n",
      "Speed: 2.0ms preprocess, 444.8ms inference, 2.0ms postprocess per image at shape (1, 3, 384, 640)\n",
      "\n"
     ]
    },
    {
     "name": "stdout",
     "output_type": "stream",
     "text": [
      "Semáforo 1 da imagem 158_original já existe em ../data/processed/outputs/semafaros/standard/traffic_light_158_original.jpg. Não foi salvo novamente.\n",
      "Semáforo 2 da imagem 158_original já existe em ../data/processed/outputs/semafaros/standard/traffic_light_158_original(1).jpg. Não foi salvo novamente.\n"
     ]
    },
    {
     "name": "stderr",
     "output_type": "stream",
     "text": [
      "image 1/1 c:\\Users\\Thiago\\OneDrive\\Documentos\\Facul\\6 Sexto semestre\\TCC\\TCC-CDIA\\notebooks\\..\\data\\frames\\images\\159_original.jpg: 384x640 10 cars, 3 traffic lights, 487.1ms\n",
      "Speed: 2.0ms preprocess, 487.1ms inference, 2.0ms postprocess per image at shape (1, 3, 384, 640)\n",
      "\n"
     ]
    },
    {
     "name": "stdout",
     "output_type": "stream",
     "text": [
      "Semáforo 1 da imagem 159_original já existe em ../data/processed/outputs/semafaros/standard/traffic_light_159_original.jpg. Não foi salvo novamente.\n",
      "Semáforo 2 da imagem 159_original já existe em ../data/processed/outputs/semafaros/standard/traffic_light_159_original(1).jpg. Não foi salvo novamente.\n",
      "Semáforo 3 da imagem 159_original já existe em ../data/processed/outputs/semafaros/standard/traffic_light_159_original(2).jpg. Não foi salvo novamente.\n"
     ]
    },
    {
     "name": "stderr",
     "output_type": "stream",
     "text": [
      "image 1/1 c:\\Users\\Thiago\\OneDrive\\Documentos\\Facul\\6 Sexto semestre\\TCC\\TCC-CDIA\\notebooks\\..\\data\\frames\\images\\15_original.jpg: 384x640 9 cars, 2 trucks, 491.7ms\n",
      "Speed: 2.0ms preprocess, 491.7ms inference, 2.0ms postprocess per image at shape (1, 3, 384, 640)\n",
      "\n"
     ]
    },
    {
     "name": "stdout",
     "output_type": "stream",
     "text": [
      "Erro na imagem 15_original.jpg: Nenhum semáforo detectado na imagem.\n"
     ]
    },
    {
     "name": "stderr",
     "output_type": "stream",
     "text": [
      "image 1/1 c:\\Users\\Thiago\\OneDrive\\Documentos\\Facul\\6 Sexto semestre\\TCC\\TCC-CDIA\\notebooks\\..\\data\\frames\\images\\160_original.jpg: 384x640 4 persons, 7 cars, 442.8ms\n",
      "Speed: 2.0ms preprocess, 442.8ms inference, 2.0ms postprocess per image at shape (1, 3, 384, 640)\n",
      "\n"
     ]
    },
    {
     "name": "stdout",
     "output_type": "stream",
     "text": [
      "Erro na imagem 160_original.jpg: Nenhum semáforo detectado na imagem.\n"
     ]
    },
    {
     "name": "stderr",
     "output_type": "stream",
     "text": [
      "image 1/1 c:\\Users\\Thiago\\OneDrive\\Documentos\\Facul\\6 Sexto semestre\\TCC\\TCC-CDIA\\notebooks\\..\\data\\frames\\images\\161_original.jpg: 384x640 2 persons, 4 cars, 3 traffic lights, 471.7ms\n",
      "Speed: 2.0ms preprocess, 471.7ms inference, 2.0ms postprocess per image at shape (1, 3, 384, 640)\n",
      "\n"
     ]
    },
    {
     "name": "stdout",
     "output_type": "stream",
     "text": [
      "Semáforo 1 da imagem 161_original já existe em ../data/processed/outputs/semafaros/standard/traffic_light_161_original.jpg. Não foi salvo novamente.\n",
      "Semáforo 2 da imagem 161_original já existe em ../data/processed/outputs/semafaros/standard/traffic_light_161_original(1).jpg. Não foi salvo novamente.\n",
      "Semáforo 3 da imagem 161_original já existe em ../data/processed/outputs/semafaros/standard/traffic_light_161_original(2).jpg. Não foi salvo novamente.\n"
     ]
    },
    {
     "name": "stderr",
     "output_type": "stream",
     "text": [
      "image 1/1 c:\\Users\\Thiago\\OneDrive\\Documentos\\Facul\\6 Sexto semestre\\TCC\\TCC-CDIA\\notebooks\\..\\data\\frames\\images\\162_original.jpg: 384x640 3 persons, 5 cars, 4 traffic lights, 504.9ms\n",
      "Speed: 2.0ms preprocess, 504.9ms inference, 2.0ms postprocess per image at shape (1, 3, 384, 640)\n",
      "\n"
     ]
    },
    {
     "name": "stdout",
     "output_type": "stream",
     "text": [
      "Semáforo 1 da imagem 162_original já existe em ../data/processed/outputs/semafaros/standard/traffic_light_162_original.jpg. Não foi salvo novamente.\n",
      "Semáforo 2 da imagem 162_original já existe em ../data/processed/outputs/semafaros/standard/traffic_light_162_original(1).jpg. Não foi salvo novamente.\n",
      "Semáforo 3 da imagem 162_original já existe em ../data/processed/outputs/semafaros/standard/traffic_light_162_original(2).jpg. Não foi salvo novamente.\n",
      "Semáforo 4 da imagem 162_original já existe em ../data/processed/outputs/semafaros/standard/traffic_light_162_original(3).jpg. Não foi salvo novamente.\n"
     ]
    },
    {
     "name": "stderr",
     "output_type": "stream",
     "text": [
      "image 1/1 c:\\Users\\Thiago\\OneDrive\\Documentos\\Facul\\6 Sexto semestre\\TCC\\TCC-CDIA\\notebooks\\..\\data\\frames\\images\\163_original.jpg: 384x640 2 persons, 1 bicycle, 3 cars, 505.6ms\n",
      "Speed: 2.0ms preprocess, 505.6ms inference, 2.0ms postprocess per image at shape (1, 3, 384, 640)\n",
      "\n"
     ]
    },
    {
     "name": "stdout",
     "output_type": "stream",
     "text": [
      "Erro na imagem 163_original.jpg: Nenhum semáforo detectado na imagem.\n"
     ]
    },
    {
     "name": "stderr",
     "output_type": "stream",
     "text": [
      "image 1/1 c:\\Users\\Thiago\\OneDrive\\Documentos\\Facul\\6 Sexto semestre\\TCC\\TCC-CDIA\\notebooks\\..\\data\\frames\\images\\164_original.jpg: 384x640 1 person, 11 cars, 471.7ms\n",
      "Speed: 2.0ms preprocess, 471.7ms inference, 2.0ms postprocess per image at shape (1, 3, 384, 640)\n",
      "\n"
     ]
    },
    {
     "name": "stdout",
     "output_type": "stream",
     "text": [
      "Erro na imagem 164_original.jpg: Nenhum semáforo detectado na imagem.\n"
     ]
    },
    {
     "name": "stderr",
     "output_type": "stream",
     "text": [
      "image 1/1 c:\\Users\\Thiago\\OneDrive\\Documentos\\Facul\\6 Sexto semestre\\TCC\\TCC-CDIA\\notebooks\\..\\data\\frames\\images\\165_original.jpg: 384x640 9 cars, 514.7ms\n",
      "Speed: 2.0ms preprocess, 514.7ms inference, 2.0ms postprocess per image at shape (1, 3, 384, 640)\n",
      "\n"
     ]
    },
    {
     "name": "stdout",
     "output_type": "stream",
     "text": [
      "Erro na imagem 165_original.jpg: Nenhum semáforo detectado na imagem.\n"
     ]
    },
    {
     "name": "stderr",
     "output_type": "stream",
     "text": [
      "image 1/1 c:\\Users\\Thiago\\OneDrive\\Documentos\\Facul\\6 Sexto semestre\\TCC\\TCC-CDIA\\notebooks\\..\\data\\frames\\images\\166_original.jpg: 384x640 6 persons, 9 cars, 1 traffic light, 482.7ms\n",
      "Speed: 3.0ms preprocess, 482.7ms inference, 2.0ms postprocess per image at shape (1, 3, 384, 640)\n",
      "\n"
     ]
    },
    {
     "name": "stdout",
     "output_type": "stream",
     "text": [
      "Semáforo 1 da imagem 166_original já existe em ../data/processed/outputs/semafaros/standard/traffic_light_166_original.jpg. Não foi salvo novamente.\n"
     ]
    },
    {
     "name": "stderr",
     "output_type": "stream",
     "text": [
      "image 1/1 c:\\Users\\Thiago\\OneDrive\\Documentos\\Facul\\6 Sexto semestre\\TCC\\TCC-CDIA\\notebooks\\..\\data\\frames\\images\\167_original.jpg: 384x640 12 persons, 1 traffic light, 2 potted plants, 502.7ms\n",
      "Speed: 2.0ms preprocess, 502.7ms inference, 2.0ms postprocess per image at shape (1, 3, 384, 640)\n",
      "\n"
     ]
    },
    {
     "name": "stdout",
     "output_type": "stream",
     "text": [
      "Semáforo 1 da imagem 167_original já existe em ../data/processed/outputs/semafaros/standard/traffic_light_167_original.jpg. Não foi salvo novamente.\n"
     ]
    },
    {
     "name": "stderr",
     "output_type": "stream",
     "text": [
      "image 1/1 c:\\Users\\Thiago\\OneDrive\\Documentos\\Facul\\6 Sexto semestre\\TCC\\TCC-CDIA\\notebooks\\..\\data\\frames\\images\\16_original.jpg: 384x640 4 cars, 490.0ms\n",
      "Speed: 1.0ms preprocess, 490.0ms inference, 2.0ms postprocess per image at shape (1, 3, 384, 640)\n",
      "\n"
     ]
    },
    {
     "name": "stdout",
     "output_type": "stream",
     "text": [
      "Erro na imagem 16_original.jpg: Nenhum semáforo detectado na imagem.\n"
     ]
    },
    {
     "name": "stderr",
     "output_type": "stream",
     "text": [
      "image 1/1 c:\\Users\\Thiago\\OneDrive\\Documentos\\Facul\\6 Sexto semestre\\TCC\\TCC-CDIA\\notebooks\\..\\data\\frames\\images\\17_original.jpg: 384x640 11 cars, 3 traffic lights, 461.9ms\n",
      "Speed: 3.0ms preprocess, 461.9ms inference, 2.0ms postprocess per image at shape (1, 3, 384, 640)\n",
      "\n"
     ]
    },
    {
     "name": "stdout",
     "output_type": "stream",
     "text": [
      "Semáforo 1 da imagem 17_original já existe em ../data/processed/outputs/semafaros/standard/traffic_light_17_original.jpg. Não foi salvo novamente.\n",
      "Semáforo 2 da imagem 17_original já existe em ../data/processed/outputs/semafaros/standard/traffic_light_17_original(1).jpg. Não foi salvo novamente.\n",
      "Semáforo 3 da imagem 17_original já existe em ../data/processed/outputs/semafaros/standard/traffic_light_17_original(2).jpg. Não foi salvo novamente.\n"
     ]
    },
    {
     "name": "stderr",
     "output_type": "stream",
     "text": [
      "image 1/1 c:\\Users\\Thiago\\OneDrive\\Documentos\\Facul\\6 Sexto semestre\\TCC\\TCC-CDIA\\notebooks\\..\\data\\frames\\images\\18_original.jpg: 384x640 8 cars, 1 truck, 3 traffic lights, 488.9ms\n",
      "Speed: 2.0ms preprocess, 488.9ms inference, 2.0ms postprocess per image at shape (1, 3, 384, 640)\n",
      "\n"
     ]
    },
    {
     "name": "stdout",
     "output_type": "stream",
     "text": [
      "Semáforo 1 da imagem 18_original já existe em ../data/processed/outputs/semafaros/standard/traffic_light_18_original.jpg. Não foi salvo novamente.\n",
      "Semáforo 2 da imagem 18_original já existe em ../data/processed/outputs/semafaros/standard/traffic_light_18_original(1).jpg. Não foi salvo novamente.\n",
      "Semáforo 3 da imagem 18_original já existe em ../data/processed/outputs/semafaros/standard/traffic_light_18_original(2).jpg. Não foi salvo novamente.\n"
     ]
    },
    {
     "name": "stderr",
     "output_type": "stream",
     "text": [
      "image 1/1 c:\\Users\\Thiago\\OneDrive\\Documentos\\Facul\\6 Sexto semestre\\TCC\\TCC-CDIA\\notebooks\\..\\data\\frames\\images\\19_original.jpg: 384x640 2 persons, 1 bicycle, 12 cars, 1 traffic light, 490.9ms\n",
      "Speed: 3.0ms preprocess, 490.9ms inference, 1.0ms postprocess per image at shape (1, 3, 384, 640)\n",
      "\n"
     ]
    },
    {
     "name": "stdout",
     "output_type": "stream",
     "text": [
      "Semáforo 1 da imagem 19_original já existe em ../data/processed/outputs/semafaros/standard/traffic_light_19_original.jpg. Não foi salvo novamente.\n"
     ]
    },
    {
     "name": "stderr",
     "output_type": "stream",
     "text": [
      "image 1/1 c:\\Users\\Thiago\\OneDrive\\Documentos\\Facul\\6 Sexto semestre\\TCC\\TCC-CDIA\\notebooks\\..\\data\\frames\\images\\1_original.jpg: 384x640 7 cars, 1 truck, 2 traffic lights, 488.7ms\n",
      "Speed: 1.0ms preprocess, 488.7ms inference, 2.0ms postprocess per image at shape (1, 3, 384, 640)\n",
      "\n"
     ]
    },
    {
     "name": "stdout",
     "output_type": "stream",
     "text": [
      "Semáforo 1 da imagem 1_original já existe em ../data/processed/outputs/semafaros/standard/traffic_light_1_original.jpg. Não foi salvo novamente.\n",
      "Semáforo 2 da imagem 1_original já existe em ../data/processed/outputs/semafaros/standard/traffic_light_1_original(1).jpg. Não foi salvo novamente.\n"
     ]
    },
    {
     "name": "stderr",
     "output_type": "stream",
     "text": [
      "image 1/1 c:\\Users\\Thiago\\OneDrive\\Documentos\\Facul\\6 Sexto semestre\\TCC\\TCC-CDIA\\notebooks\\..\\data\\frames\\images\\20_original.jpg: 384x640 2 persons, 8 cars, 514.0ms\n",
      "Speed: 2.0ms preprocess, 514.0ms inference, 3.0ms postprocess per image at shape (1, 3, 384, 640)\n",
      "\n"
     ]
    },
    {
     "name": "stdout",
     "output_type": "stream",
     "text": [
      "Erro na imagem 20_original.jpg: Nenhum semáforo detectado na imagem.\n"
     ]
    },
    {
     "name": "stderr",
     "output_type": "stream",
     "text": [
      "image 1/1 c:\\Users\\Thiago\\OneDrive\\Documentos\\Facul\\6 Sexto semestre\\TCC\\TCC-CDIA\\notebooks\\..\\data\\frames\\images\\21_original.jpg: 384x640 1 person, 6 cars, 2 trucks, 3 traffic lights, 468.7ms\n",
      "Speed: 2.0ms preprocess, 468.7ms inference, 2.0ms postprocess per image at shape (1, 3, 384, 640)\n",
      "\n"
     ]
    },
    {
     "name": "stdout",
     "output_type": "stream",
     "text": [
      "Semáforo 1 da imagem 21_original já existe em ../data/processed/outputs/semafaros/standard/traffic_light_21_original.jpg. Não foi salvo novamente.\n",
      "Semáforo 2 da imagem 21_original já existe em ../data/processed/outputs/semafaros/standard/traffic_light_21_original(1).jpg. Não foi salvo novamente.\n",
      "Semáforo 3 da imagem 21_original já existe em ../data/processed/outputs/semafaros/standard/traffic_light_21_original(2).jpg. Não foi salvo novamente.\n"
     ]
    },
    {
     "name": "stderr",
     "output_type": "stream",
     "text": [
      "image 1/1 c:\\Users\\Thiago\\OneDrive\\Documentos\\Facul\\6 Sexto semestre\\TCC\\TCC-CDIA\\notebooks\\..\\data\\frames\\images\\22_original.jpg: 384x640 6 cars, 2 trucks, 456.9ms\n",
      "Speed: 2.0ms preprocess, 456.9ms inference, 2.0ms postprocess per image at shape (1, 3, 384, 640)\n",
      "\n"
     ]
    },
    {
     "name": "stdout",
     "output_type": "stream",
     "text": [
      "Erro na imagem 22_original.jpg: Nenhum semáforo detectado na imagem.\n"
     ]
    },
    {
     "name": "stderr",
     "output_type": "stream",
     "text": [
      "image 1/1 c:\\Users\\Thiago\\OneDrive\\Documentos\\Facul\\6 Sexto semestre\\TCC\\TCC-CDIA\\notebooks\\..\\data\\frames\\images\\23_original.jpg: 384x640 1 person, 4 cars, 480.7ms\n",
      "Speed: 1.0ms preprocess, 480.7ms inference, 2.0ms postprocess per image at shape (1, 3, 384, 640)\n",
      "\n"
     ]
    },
    {
     "name": "stdout",
     "output_type": "stream",
     "text": [
      "Erro na imagem 23_original.jpg: Nenhum semáforo detectado na imagem.\n"
     ]
    },
    {
     "name": "stderr",
     "output_type": "stream",
     "text": [
      "image 1/1 c:\\Users\\Thiago\\OneDrive\\Documentos\\Facul\\6 Sexto semestre\\TCC\\TCC-CDIA\\notebooks\\..\\data\\frames\\images\\24_original.jpg: 384x640 10 cars, 1 truck, 483.7ms\n",
      "Speed: 2.0ms preprocess, 483.7ms inference, 1.0ms postprocess per image at shape (1, 3, 384, 640)\n",
      "\n"
     ]
    },
    {
     "name": "stdout",
     "output_type": "stream",
     "text": [
      "Erro na imagem 24_original.jpg: Nenhum semáforo detectado na imagem.\n"
     ]
    },
    {
     "name": "stderr",
     "output_type": "stream",
     "text": [
      "image 1/1 c:\\Users\\Thiago\\OneDrive\\Documentos\\Facul\\6 Sexto semestre\\TCC\\TCC-CDIA\\notebooks\\..\\data\\frames\\images\\25_original.jpg: 384x640 1 person, 8 cars, 465.0ms\n",
      "Speed: 2.0ms preprocess, 465.0ms inference, 2.0ms postprocess per image at shape (1, 3, 384, 640)\n",
      "\n"
     ]
    },
    {
     "name": "stdout",
     "output_type": "stream",
     "text": [
      "Erro na imagem 25_original.jpg: Nenhum semáforo detectado na imagem.\n"
     ]
    },
    {
     "name": "stderr",
     "output_type": "stream",
     "text": [
      "image 1/1 c:\\Users\\Thiago\\OneDrive\\Documentos\\Facul\\6 Sexto semestre\\TCC\\TCC-CDIA\\notebooks\\..\\data\\frames\\images\\26_original.jpg: 384x640 10 cars, 490.7ms\n",
      "Speed: 2.0ms preprocess, 490.7ms inference, 2.0ms postprocess per image at shape (1, 3, 384, 640)\n",
      "\n"
     ]
    },
    {
     "name": "stdout",
     "output_type": "stream",
     "text": [
      "Erro na imagem 26_original.jpg: Nenhum semáforo detectado na imagem.\n"
     ]
    },
    {
     "name": "stderr",
     "output_type": "stream",
     "text": [
      "image 1/1 c:\\Users\\Thiago\\OneDrive\\Documentos\\Facul\\6 Sexto semestre\\TCC\\TCC-CDIA\\notebooks\\..\\data\\frames\\images\\27_original.jpg: 384x640 7 cars, 1 bus, 471.7ms\n",
      "Speed: 2.0ms preprocess, 471.7ms inference, 1.0ms postprocess per image at shape (1, 3, 384, 640)\n",
      "\n"
     ]
    },
    {
     "name": "stdout",
     "output_type": "stream",
     "text": [
      "Erro na imagem 27_original.jpg: Nenhum semáforo detectado na imagem.\n"
     ]
    },
    {
     "name": "stderr",
     "output_type": "stream",
     "text": [
      "image 1/1 c:\\Users\\Thiago\\OneDrive\\Documentos\\Facul\\6 Sexto semestre\\TCC\\TCC-CDIA\\notebooks\\..\\data\\frames\\images\\28_original.jpg: 384x640 1 person, 7 cars, 480.7ms\n",
      "Speed: 2.0ms preprocess, 480.7ms inference, 2.0ms postprocess per image at shape (1, 3, 384, 640)\n",
      "\n"
     ]
    },
    {
     "name": "stdout",
     "output_type": "stream",
     "text": [
      "Erro na imagem 28_original.jpg: Nenhum semáforo detectado na imagem.\n"
     ]
    },
    {
     "name": "stderr",
     "output_type": "stream",
     "text": [
      "image 1/1 c:\\Users\\Thiago\\OneDrive\\Documentos\\Facul\\6 Sexto semestre\\TCC\\TCC-CDIA\\notebooks\\..\\data\\frames\\images\\29_original.jpg: 384x640 9 cars, 1 traffic light, 558.5ms\n",
      "Speed: 2.0ms preprocess, 558.5ms inference, 2.0ms postprocess per image at shape (1, 3, 384, 640)\n",
      "\n"
     ]
    },
    {
     "name": "stdout",
     "output_type": "stream",
     "text": [
      "Semáforo 1 da imagem 29_original já existe em ../data/processed/outputs/semafaros/standard/traffic_light_29_original.jpg. Não foi salvo novamente.\n"
     ]
    },
    {
     "name": "stderr",
     "output_type": "stream",
     "text": [
      "image 1/1 c:\\Users\\Thiago\\OneDrive\\Documentos\\Facul\\6 Sexto semestre\\TCC\\TCC-CDIA\\notebooks\\..\\data\\frames\\images\\2_original.jpg: 384x640 10 cars, 488.7ms\n",
      "Speed: 2.0ms preprocess, 488.7ms inference, 2.0ms postprocess per image at shape (1, 3, 384, 640)\n",
      "\n"
     ]
    },
    {
     "name": "stdout",
     "output_type": "stream",
     "text": [
      "Erro na imagem 2_original.jpg: Nenhum semáforo detectado na imagem.\n"
     ]
    },
    {
     "name": "stderr",
     "output_type": "stream",
     "text": [
      "image 1/1 c:\\Users\\Thiago\\OneDrive\\Documentos\\Facul\\6 Sexto semestre\\TCC\\TCC-CDIA\\notebooks\\..\\data\\frames\\images\\30_original.jpg: 384x640 1 person, 9 cars, 463.8ms\n",
      "Speed: 1.0ms preprocess, 463.8ms inference, 2.0ms postprocess per image at shape (1, 3, 384, 640)\n",
      "\n"
     ]
    },
    {
     "name": "stdout",
     "output_type": "stream",
     "text": [
      "Erro na imagem 30_original.jpg: Nenhum semáforo detectado na imagem.\n"
     ]
    },
    {
     "name": "stderr",
     "output_type": "stream",
     "text": [
      "image 1/1 c:\\Users\\Thiago\\OneDrive\\Documentos\\Facul\\6 Sexto semestre\\TCC\\TCC-CDIA\\notebooks\\..\\data\\frames\\images\\31_original.jpg: 384x640 1 person, 6 cars, 446.8ms\n",
      "Speed: 3.0ms preprocess, 446.8ms inference, 2.0ms postprocess per image at shape (1, 3, 384, 640)\n",
      "\n"
     ]
    },
    {
     "name": "stdout",
     "output_type": "stream",
     "text": [
      "Erro na imagem 31_original.jpg: Nenhum semáforo detectado na imagem.\n"
     ]
    },
    {
     "name": "stderr",
     "output_type": "stream",
     "text": [
      "image 1/1 c:\\Users\\Thiago\\OneDrive\\Documentos\\Facul\\6 Sexto semestre\\TCC\\TCC-CDIA\\notebooks\\..\\data\\frames\\images\\32_original.jpg: 384x640 6 cars, 1 bus, 1 traffic light, 505.9ms\n",
      "Speed: 1.0ms preprocess, 505.9ms inference, 2.0ms postprocess per image at shape (1, 3, 384, 640)\n",
      "\n"
     ]
    },
    {
     "name": "stdout",
     "output_type": "stream",
     "text": [
      "Semáforo 1 da imagem 32_original já existe em ../data/processed/outputs/semafaros/standard/traffic_light_32_original.jpg. Não foi salvo novamente.\n"
     ]
    },
    {
     "name": "stderr",
     "output_type": "stream",
     "text": [
      "image 1/1 c:\\Users\\Thiago\\OneDrive\\Documentos\\Facul\\6 Sexto semestre\\TCC\\TCC-CDIA\\notebooks\\..\\data\\frames\\images\\33_original.jpg: 384x640 7 cars, 452.8ms\n",
      "Speed: 2.0ms preprocess, 452.8ms inference, 2.0ms postprocess per image at shape (1, 3, 384, 640)\n",
      "\n"
     ]
    },
    {
     "name": "stdout",
     "output_type": "stream",
     "text": [
      "Erro na imagem 33_original.jpg: Nenhum semáforo detectado na imagem.\n"
     ]
    },
    {
     "name": "stderr",
     "output_type": "stream",
     "text": [
      "image 1/1 c:\\Users\\Thiago\\OneDrive\\Documentos\\Facul\\6 Sexto semestre\\TCC\\TCC-CDIA\\notebooks\\..\\data\\frames\\images\\34_original.jpg: 384x640 1 person, 7 cars, 1 traffic light, 523.6ms\n",
      "Speed: 2.0ms preprocess, 523.6ms inference, 2.0ms postprocess per image at shape (1, 3, 384, 640)\n",
      "\n"
     ]
    },
    {
     "name": "stdout",
     "output_type": "stream",
     "text": [
      "Semáforo 1 da imagem 34_original já existe em ../data/processed/outputs/semafaros/standard/traffic_light_34_original.jpg. Não foi salvo novamente.\n"
     ]
    },
    {
     "name": "stderr",
     "output_type": "stream",
     "text": [
      "image 1/1 c:\\Users\\Thiago\\OneDrive\\Documentos\\Facul\\6 Sexto semestre\\TCC\\TCC-CDIA\\notebooks\\..\\data\\frames\\images\\35_original.jpg: 384x640 2 persons, 2 cars, 1 traffic light, 453.8ms\n",
      "Speed: 2.0ms preprocess, 453.8ms inference, 2.0ms postprocess per image at shape (1, 3, 384, 640)\n",
      "\n"
     ]
    },
    {
     "name": "stdout",
     "output_type": "stream",
     "text": [
      "Semáforo 1 da imagem 35_original já existe em ../data/processed/outputs/semafaros/standard/traffic_light_35_original.jpg. Não foi salvo novamente.\n"
     ]
    },
    {
     "name": "stderr",
     "output_type": "stream",
     "text": [
      "image 1/1 c:\\Users\\Thiago\\OneDrive\\Documentos\\Facul\\6 Sexto semestre\\TCC\\TCC-CDIA\\notebooks\\..\\data\\frames\\images\\36_original.jpg: 384x640 2 persons, 6 cars, 1 motorcycle, 428.8ms\n",
      "Speed: 2.0ms preprocess, 428.8ms inference, 1.0ms postprocess per image at shape (1, 3, 384, 640)\n",
      "\n"
     ]
    },
    {
     "name": "stdout",
     "output_type": "stream",
     "text": [
      "Erro na imagem 36_original.jpg: Nenhum semáforo detectado na imagem.\n"
     ]
    },
    {
     "name": "stderr",
     "output_type": "stream",
     "text": [
      "image 1/1 c:\\Users\\Thiago\\OneDrive\\Documentos\\Facul\\6 Sexto semestre\\TCC\\TCC-CDIA\\notebooks\\..\\data\\frames\\images\\37_original.jpg: 384x640 1 person, 3 cars, 1 motorcycle, 1 bus, 1 traffic light, 441.8ms\n",
      "Speed: 2.0ms preprocess, 441.8ms inference, 2.0ms postprocess per image at shape (1, 3, 384, 640)\n",
      "\n"
     ]
    },
    {
     "name": "stdout",
     "output_type": "stream",
     "text": [
      "Semáforo 1 da imagem 37_original já existe em ../data/processed/outputs/semafaros/standard/traffic_light_37_original.jpg. Não foi salvo novamente.\n"
     ]
    },
    {
     "name": "stderr",
     "output_type": "stream",
     "text": [
      "image 1/1 c:\\Users\\Thiago\\OneDrive\\Documentos\\Facul\\6 Sexto semestre\\TCC\\TCC-CDIA\\notebooks\\..\\data\\frames\\images\\38_original.jpg: 384x640 8 persons, 11 cars, 1 umbrella, 519.6ms\n",
      "Speed: 46.9ms preprocess, 519.6ms inference, 1.0ms postprocess per image at shape (1, 3, 384, 640)\n",
      "\n"
     ]
    },
    {
     "name": "stdout",
     "output_type": "stream",
     "text": [
      "Erro na imagem 38_original.jpg: Nenhum semáforo detectado na imagem.\n"
     ]
    },
    {
     "name": "stderr",
     "output_type": "stream",
     "text": [
      "image 1/1 c:\\Users\\Thiago\\OneDrive\\Documentos\\Facul\\6 Sexto semestre\\TCC\\TCC-CDIA\\notebooks\\..\\data\\frames\\images\\39_original.jpg: 384x640 1 person, 5 cars, 495.7ms\n",
      "Speed: 2.0ms preprocess, 495.7ms inference, 1.0ms postprocess per image at shape (1, 3, 384, 640)\n",
      "\n"
     ]
    },
    {
     "name": "stdout",
     "output_type": "stream",
     "text": [
      "Erro na imagem 39_original.jpg: Nenhum semáforo detectado na imagem.\n"
     ]
    },
    {
     "name": "stderr",
     "output_type": "stream",
     "text": [
      "image 1/1 c:\\Users\\Thiago\\OneDrive\\Documentos\\Facul\\6 Sexto semestre\\TCC\\TCC-CDIA\\notebooks\\..\\data\\frames\\images\\3_original.jpg: 384x640 7 cars, 3 traffic lights, 475.2ms\n",
      "Speed: 3.0ms preprocess, 475.2ms inference, 1.0ms postprocess per image at shape (1, 3, 384, 640)\n",
      "\n"
     ]
    },
    {
     "name": "stdout",
     "output_type": "stream",
     "text": [
      "Semáforo 1 da imagem 3_original já existe em ../data/processed/outputs/semafaros/standard/traffic_light_3_original.jpg. Não foi salvo novamente.\n",
      "Semáforo 2 da imagem 3_original já existe em ../data/processed/outputs/semafaros/standard/traffic_light_3_original(1).jpg. Não foi salvo novamente.\n",
      "Semáforo 3 da imagem 3_original já existe em ../data/processed/outputs/semafaros/standard/traffic_light_3_original(2).jpg. Não foi salvo novamente.\n"
     ]
    },
    {
     "name": "stderr",
     "output_type": "stream",
     "text": [
      "image 1/1 c:\\Users\\Thiago\\OneDrive\\Documentos\\Facul\\6 Sexto semestre\\TCC\\TCC-CDIA\\notebooks\\..\\data\\frames\\images\\40_original.jpg: 384x640 6 cars, 498.7ms\n",
      "Speed: 2.0ms preprocess, 498.7ms inference, 2.0ms postprocess per image at shape (1, 3, 384, 640)\n",
      "\n"
     ]
    },
    {
     "name": "stdout",
     "output_type": "stream",
     "text": [
      "Erro na imagem 40_original.jpg: Nenhum semáforo detectado na imagem.\n"
     ]
    },
    {
     "name": "stderr",
     "output_type": "stream",
     "text": [
      "image 1/1 c:\\Users\\Thiago\\OneDrive\\Documentos\\Facul\\6 Sexto semestre\\TCC\\TCC-CDIA\\notebooks\\..\\data\\frames\\images\\41_original.jpg: 384x640 1 person, 2 cars, 4 traffic lights, 469.9ms\n",
      "Speed: 2.0ms preprocess, 469.9ms inference, 2.0ms postprocess per image at shape (1, 3, 384, 640)\n",
      "\n"
     ]
    },
    {
     "name": "stdout",
     "output_type": "stream",
     "text": [
      "Semáforo 1 da imagem 41_original já existe em ../data/processed/outputs/semafaros/standard/traffic_light_41_original.jpg. Não foi salvo novamente.\n",
      "Semáforo 2 da imagem 41_original já existe em ../data/processed/outputs/semafaros/standard/traffic_light_41_original(1).jpg. Não foi salvo novamente.\n",
      "Semáforo 3 da imagem 41_original já existe em ../data/processed/outputs/semafaros/standard/traffic_light_41_original(2).jpg. Não foi salvo novamente.\n",
      "Semáforo 4 da imagem 41_original já existe em ../data/processed/outputs/semafaros/standard/traffic_light_41_original(3).jpg. Não foi salvo novamente.\n"
     ]
    },
    {
     "name": "stderr",
     "output_type": "stream",
     "text": [
      "image 1/1 c:\\Users\\Thiago\\OneDrive\\Documentos\\Facul\\6 Sexto semestre\\TCC\\TCC-CDIA\\notebooks\\..\\data\\frames\\images\\42_original.jpg: 384x640 3 cars, 2 traffic lights, 496.7ms\n",
      "Speed: 2.0ms preprocess, 496.7ms inference, 1.0ms postprocess per image at shape (1, 3, 384, 640)\n",
      "\n"
     ]
    },
    {
     "name": "stdout",
     "output_type": "stream",
     "text": [
      "Semáforo 1 da imagem 42_original já existe em ../data/processed/outputs/semafaros/standard/traffic_light_42_original.jpg. Não foi salvo novamente.\n",
      "Semáforo 2 da imagem 42_original já existe em ../data/processed/outputs/semafaros/standard/traffic_light_42_original(1).jpg. Não foi salvo novamente.\n"
     ]
    },
    {
     "name": "stderr",
     "output_type": "stream",
     "text": [
      "image 1/1 c:\\Users\\Thiago\\OneDrive\\Documentos\\Facul\\6 Sexto semestre\\TCC\\TCC-CDIA\\notebooks\\..\\data\\frames\\images\\43_original.jpg: 384x640 1 person, 5 cars, 462.8ms\n",
      "Speed: 2.0ms preprocess, 462.8ms inference, 2.0ms postprocess per image at shape (1, 3, 384, 640)\n",
      "\n"
     ]
    },
    {
     "name": "stdout",
     "output_type": "stream",
     "text": [
      "Erro na imagem 43_original.jpg: Nenhum semáforo detectado na imagem.\n"
     ]
    },
    {
     "name": "stderr",
     "output_type": "stream",
     "text": [
      "image 1/1 c:\\Users\\Thiago\\OneDrive\\Documentos\\Facul\\6 Sexto semestre\\TCC\\TCC-CDIA\\notebooks\\..\\data\\frames\\images\\44_original.jpg: 384x640 6 cars, 2 traffic lights, 486.8ms\n",
      "Speed: 2.0ms preprocess, 486.8ms inference, 2.0ms postprocess per image at shape (1, 3, 384, 640)\n",
      "\n"
     ]
    },
    {
     "name": "stdout",
     "output_type": "stream",
     "text": [
      "Semáforo 1 da imagem 44_original já existe em ../data/processed/outputs/semafaros/standard/traffic_light_44_original.jpg. Não foi salvo novamente.\n",
      "Semáforo 2 da imagem 44_original já existe em ../data/processed/outputs/semafaros/standard/traffic_light_44_original(1).jpg. Não foi salvo novamente.\n"
     ]
    },
    {
     "name": "stderr",
     "output_type": "stream",
     "text": [
      "image 1/1 c:\\Users\\Thiago\\OneDrive\\Documentos\\Facul\\6 Sexto semestre\\TCC\\TCC-CDIA\\notebooks\\..\\data\\frames\\images\\45_original.jpg: 384x640 4 cars, 1 truck, 1 traffic light, 463.0ms\n",
      "Speed: 2.0ms preprocess, 463.0ms inference, 2.0ms postprocess per image at shape (1, 3, 384, 640)\n",
      "\n"
     ]
    },
    {
     "name": "stdout",
     "output_type": "stream",
     "text": [
      "Semáforo 1 da imagem 45_original já existe em ../data/processed/outputs/semafaros/standard/traffic_light_45_original.jpg. Não foi salvo novamente.\n"
     ]
    },
    {
     "name": "stderr",
     "output_type": "stream",
     "text": [
      "image 1/1 c:\\Users\\Thiago\\OneDrive\\Documentos\\Facul\\6 Sexto semestre\\TCC\\TCC-CDIA\\notebooks\\..\\data\\frames\\images\\46_original.jpg: 384x640 6 cars, 550.6ms\n",
      "Speed: 2.0ms preprocess, 550.6ms inference, 2.0ms postprocess per image at shape (1, 3, 384, 640)\n",
      "\n"
     ]
    },
    {
     "name": "stdout",
     "output_type": "stream",
     "text": [
      "Erro na imagem 46_original.jpg: Nenhum semáforo detectado na imagem.\n"
     ]
    },
    {
     "name": "stderr",
     "output_type": "stream",
     "text": [
      "image 1/1 c:\\Users\\Thiago\\OneDrive\\Documentos\\Facul\\6 Sexto semestre\\TCC\\TCC-CDIA\\notebooks\\..\\data\\frames\\images\\47_original.jpg: 384x640 4 persons, 8 cars, 1 truck, 502.7ms\n",
      "Speed: 3.0ms preprocess, 502.7ms inference, 2.0ms postprocess per image at shape (1, 3, 384, 640)\n",
      "\n"
     ]
    },
    {
     "name": "stdout",
     "output_type": "stream",
     "text": [
      "Erro na imagem 47_original.jpg: Nenhum semáforo detectado na imagem.\n"
     ]
    },
    {
     "name": "stderr",
     "output_type": "stream",
     "text": [
      "image 1/1 c:\\Users\\Thiago\\OneDrive\\Documentos\\Facul\\6 Sexto semestre\\TCC\\TCC-CDIA\\notebooks\\..\\data\\frames\\images\\48_original.jpg: 384x640 4 persons, 1 bicycle, 8 cars, 3 buss, 476.7ms\n",
      "Speed: 1.0ms preprocess, 476.7ms inference, 2.0ms postprocess per image at shape (1, 3, 384, 640)\n",
      "\n"
     ]
    },
    {
     "name": "stdout",
     "output_type": "stream",
     "text": [
      "Erro na imagem 48_original.jpg: Nenhum semáforo detectado na imagem.\n"
     ]
    },
    {
     "name": "stderr",
     "output_type": "stream",
     "text": [
      "image 1/1 c:\\Users\\Thiago\\OneDrive\\Documentos\\Facul\\6 Sexto semestre\\TCC\\TCC-CDIA\\notebooks\\..\\data\\frames\\images\\49_original.jpg: 384x640 9 cars, 1 bus, 500.8ms\n",
      "Speed: 2.0ms preprocess, 500.8ms inference, 1.0ms postprocess per image at shape (1, 3, 384, 640)\n",
      "\n"
     ]
    },
    {
     "name": "stdout",
     "output_type": "stream",
     "text": [
      "Erro na imagem 49_original.jpg: Nenhum semáforo detectado na imagem.\n"
     ]
    },
    {
     "name": "stderr",
     "output_type": "stream",
     "text": [
      "image 1/1 c:\\Users\\Thiago\\OneDrive\\Documentos\\Facul\\6 Sexto semestre\\TCC\\TCC-CDIA\\notebooks\\..\\data\\frames\\images\\4_original.jpg: 384x640 1 person, 8 cars, 2 trucks, 1 traffic light, 533.7ms\n",
      "Speed: 2.0ms preprocess, 533.7ms inference, 2.0ms postprocess per image at shape (1, 3, 384, 640)\n",
      "\n"
     ]
    },
    {
     "name": "stdout",
     "output_type": "stream",
     "text": [
      "Semáforo 1 da imagem 4_original já existe em ../data/processed/outputs/semafaros/standard/traffic_light_4_original.jpg. Não foi salvo novamente.\n"
     ]
    },
    {
     "name": "stderr",
     "output_type": "stream",
     "text": [
      "image 1/1 c:\\Users\\Thiago\\OneDrive\\Documentos\\Facul\\6 Sexto semestre\\TCC\\TCC-CDIA\\notebooks\\..\\data\\frames\\images\\50_original.jpg: 384x640 11 cars, 1 bus, 2 traffic lights, 475.9ms\n",
      "Speed: 1.0ms preprocess, 475.9ms inference, 1.0ms postprocess per image at shape (1, 3, 384, 640)\n",
      "\n"
     ]
    },
    {
     "name": "stdout",
     "output_type": "stream",
     "text": [
      "Semáforo 1 da imagem 50_original já existe em ../data/processed/outputs/semafaros/standard/traffic_light_50_original.jpg. Não foi salvo novamente.\n",
      "Semáforo 2 da imagem 50_original já existe em ../data/processed/outputs/semafaros/standard/traffic_light_50_original(1).jpg. Não foi salvo novamente.\n"
     ]
    },
    {
     "name": "stderr",
     "output_type": "stream",
     "text": [
      "image 1/1 c:\\Users\\Thiago\\OneDrive\\Documentos\\Facul\\6 Sexto semestre\\TCC\\TCC-CDIA\\notebooks\\..\\data\\frames\\images\\51_original.jpg: 384x640 2 persons, 1 bicycle, 7 cars, 1 motorcycle, 475.7ms\n",
      "Speed: 2.0ms preprocess, 475.7ms inference, 2.0ms postprocess per image at shape (1, 3, 384, 640)\n",
      "\n"
     ]
    },
    {
     "name": "stdout",
     "output_type": "stream",
     "text": [
      "Erro na imagem 51_original.jpg: Nenhum semáforo detectado na imagem.\n"
     ]
    },
    {
     "name": "stderr",
     "output_type": "stream",
     "text": [
      "image 1/1 c:\\Users\\Thiago\\OneDrive\\Documentos\\Facul\\6 Sexto semestre\\TCC\\TCC-CDIA\\notebooks\\..\\data\\frames\\images\\52_original.jpg: 384x640 12 cars, 1 traffic light, 507.6ms\n",
      "Speed: 2.0ms preprocess, 507.6ms inference, 1.0ms postprocess per image at shape (1, 3, 384, 640)\n",
      "\n"
     ]
    },
    {
     "name": "stdout",
     "output_type": "stream",
     "text": [
      "Semáforo 1 da imagem 52_original já existe em ../data/processed/outputs/semafaros/standard/traffic_light_52_original.jpg. Não foi salvo novamente.\n"
     ]
    },
    {
     "name": "stderr",
     "output_type": "stream",
     "text": [
      "image 1/1 c:\\Users\\Thiago\\OneDrive\\Documentos\\Facul\\6 Sexto semestre\\TCC\\TCC-CDIA\\notebooks\\..\\data\\frames\\images\\53_original.jpg: 384x640 14 cars, 504.7ms\n",
      "Speed: 2.0ms preprocess, 504.7ms inference, 1.0ms postprocess per image at shape (1, 3, 384, 640)\n",
      "\n"
     ]
    },
    {
     "name": "stdout",
     "output_type": "stream",
     "text": [
      "Erro na imagem 53_original.jpg: Nenhum semáforo detectado na imagem.\n"
     ]
    },
    {
     "name": "stderr",
     "output_type": "stream",
     "text": [
      "image 1/1 c:\\Users\\Thiago\\OneDrive\\Documentos\\Facul\\6 Sexto semestre\\TCC\\TCC-CDIA\\notebooks\\..\\data\\frames\\images\\54_original.jpg: 384x640 6 persons, 9 cars, 1 motorcycle, 489.8ms\n",
      "Speed: 2.0ms preprocess, 489.8ms inference, 2.0ms postprocess per image at shape (1, 3, 384, 640)\n",
      "\n"
     ]
    },
    {
     "name": "stdout",
     "output_type": "stream",
     "text": [
      "Erro na imagem 54_original.jpg: Nenhum semáforo detectado na imagem.\n"
     ]
    },
    {
     "name": "stderr",
     "output_type": "stream",
     "text": [
      "image 1/1 c:\\Users\\Thiago\\OneDrive\\Documentos\\Facul\\6 Sexto semestre\\TCC\\TCC-CDIA\\notebooks\\..\\data\\frames\\images\\55_original.jpg: 384x640 3 cars, 3 traffic lights, 512.6ms\n",
      "Speed: 5.0ms preprocess, 512.6ms inference, 2.0ms postprocess per image at shape (1, 3, 384, 640)\n",
      "\n"
     ]
    },
    {
     "name": "stdout",
     "output_type": "stream",
     "text": [
      "Semáforo 1 da imagem 55_original já existe em ../data/processed/outputs/semafaros/standard/traffic_light_55_original.jpg. Não foi salvo novamente.\n",
      "Semáforo 2 da imagem 55_original já existe em ../data/processed/outputs/semafaros/standard/traffic_light_55_original(1).jpg. Não foi salvo novamente.\n",
      "Semáforo 3 da imagem 55_original já existe em ../data/processed/outputs/semafaros/standard/traffic_light_55_original(2).jpg. Não foi salvo novamente.\n"
     ]
    },
    {
     "name": "stderr",
     "output_type": "stream",
     "text": [
      "image 1/1 c:\\Users\\Thiago\\OneDrive\\Documentos\\Facul\\6 Sexto semestre\\TCC\\TCC-CDIA\\notebooks\\..\\data\\frames\\images\\56_original.jpg: 384x640 3 persons, 5 cars, 472.7ms\n",
      "Speed: 1.0ms preprocess, 472.7ms inference, 3.0ms postprocess per image at shape (1, 3, 384, 640)\n",
      "\n"
     ]
    },
    {
     "name": "stdout",
     "output_type": "stream",
     "text": [
      "Erro na imagem 56_original.jpg: Nenhum semáforo detectado na imagem.\n"
     ]
    },
    {
     "name": "stderr",
     "output_type": "stream",
     "text": [
      "image 1/1 c:\\Users\\Thiago\\OneDrive\\Documentos\\Facul\\6 Sexto semestre\\TCC\\TCC-CDIA\\notebooks\\..\\data\\frames\\images\\57_original.jpg: 384x640 2 persons, 4 cars, 1 motorcycle, 1 umbrella, 476.7ms\n",
      "Speed: 2.0ms preprocess, 476.7ms inference, 2.0ms postprocess per image at shape (1, 3, 384, 640)\n",
      "\n"
     ]
    },
    {
     "name": "stdout",
     "output_type": "stream",
     "text": [
      "Erro na imagem 57_original.jpg: Nenhum semáforo detectado na imagem.\n"
     ]
    },
    {
     "name": "stderr",
     "output_type": "stream",
     "text": [
      "image 1/1 c:\\Users\\Thiago\\OneDrive\\Documentos\\Facul\\6 Sexto semestre\\TCC\\TCC-CDIA\\notebooks\\..\\data\\frames\\images\\58_original.jpg: 384x640 10 cars, 454.1ms\n",
      "Speed: 2.0ms preprocess, 454.1ms inference, 2.0ms postprocess per image at shape (1, 3, 384, 640)\n",
      "\n"
     ]
    },
    {
     "name": "stdout",
     "output_type": "stream",
     "text": [
      "Erro na imagem 58_original.jpg: Nenhum semáforo detectado na imagem.\n"
     ]
    },
    {
     "name": "stderr",
     "output_type": "stream",
     "text": [
      "image 1/1 c:\\Users\\Thiago\\OneDrive\\Documentos\\Facul\\6 Sexto semestre\\TCC\\TCC-CDIA\\notebooks\\..\\data\\frames\\images\\59_original.jpg: 384x640 4 persons, 7 cars, 1 bus, 1 truck, 464.0ms\n",
      "Speed: 2.0ms preprocess, 464.0ms inference, 2.0ms postprocess per image at shape (1, 3, 384, 640)\n",
      "\n"
     ]
    },
    {
     "name": "stdout",
     "output_type": "stream",
     "text": [
      "Erro na imagem 59_original.jpg: Nenhum semáforo detectado na imagem.\n"
     ]
    },
    {
     "name": "stderr",
     "output_type": "stream",
     "text": [
      "image 1/1 c:\\Users\\Thiago\\OneDrive\\Documentos\\Facul\\6 Sexto semestre\\TCC\\TCC-CDIA\\notebooks\\..\\data\\frames\\images\\5_original.jpg: 384x640 3 persons, 7 cars, 4 motorcycles, 481.7ms\n",
      "Speed: 2.0ms preprocess, 481.7ms inference, 2.0ms postprocess per image at shape (1, 3, 384, 640)\n",
      "\n"
     ]
    },
    {
     "name": "stdout",
     "output_type": "stream",
     "text": [
      "Erro na imagem 5_original.jpg: Nenhum semáforo detectado na imagem.\n"
     ]
    },
    {
     "name": "stderr",
     "output_type": "stream",
     "text": [
      "image 1/1 c:\\Users\\Thiago\\OneDrive\\Documentos\\Facul\\6 Sexto semestre\\TCC\\TCC-CDIA\\notebooks\\..\\data\\frames\\images\\60_original.jpg: 384x640 3 persons, 2 bicycles, 10 cars, 506.8ms\n",
      "Speed: 2.0ms preprocess, 506.8ms inference, 2.0ms postprocess per image at shape (1, 3, 384, 640)\n",
      "\n"
     ]
    },
    {
     "name": "stdout",
     "output_type": "stream",
     "text": [
      "Erro na imagem 60_original.jpg: Nenhum semáforo detectado na imagem.\n"
     ]
    },
    {
     "name": "stderr",
     "output_type": "stream",
     "text": [
      "image 1/1 c:\\Users\\Thiago\\OneDrive\\Documentos\\Facul\\6 Sexto semestre\\TCC\\TCC-CDIA\\notebooks\\..\\data\\frames\\images\\61_original.jpg: 384x640 4 persons, 4 cars, 1 motorcycle, 1 bus, 1 truck, 480.7ms\n",
      "Speed: 2.0ms preprocess, 480.7ms inference, 2.0ms postprocess per image at shape (1, 3, 384, 640)\n",
      "\n"
     ]
    },
    {
     "name": "stdout",
     "output_type": "stream",
     "text": [
      "Erro na imagem 61_original.jpg: Nenhum semáforo detectado na imagem.\n"
     ]
    },
    {
     "name": "stderr",
     "output_type": "stream",
     "text": [
      "image 1/1 c:\\Users\\Thiago\\OneDrive\\Documentos\\Facul\\6 Sexto semestre\\TCC\\TCC-CDIA\\notebooks\\..\\data\\frames\\images\\62_original.jpg: 384x640 3 persons, 7 cars, 1 motorcycle, 504.6ms\n",
      "Speed: 2.0ms preprocess, 504.6ms inference, 2.0ms postprocess per image at shape (1, 3, 384, 640)\n",
      "\n"
     ]
    },
    {
     "name": "stdout",
     "output_type": "stream",
     "text": [
      "Erro na imagem 62_original.jpg: Nenhum semáforo detectado na imagem.\n"
     ]
    },
    {
     "name": "stderr",
     "output_type": "stream",
     "text": [
      "image 1/1 c:\\Users\\Thiago\\OneDrive\\Documentos\\Facul\\6 Sexto semestre\\TCC\\TCC-CDIA\\notebooks\\..\\data\\frames\\images\\63_original.jpg: 384x640 11 persons, 8 cars, 568.5ms\n",
      "Speed: 2.0ms preprocess, 568.5ms inference, 2.0ms postprocess per image at shape (1, 3, 384, 640)\n",
      "\n"
     ]
    },
    {
     "name": "stdout",
     "output_type": "stream",
     "text": [
      "Erro na imagem 63_original.jpg: Nenhum semáforo detectado na imagem.\n"
     ]
    },
    {
     "name": "stderr",
     "output_type": "stream",
     "text": [
      "image 1/1 c:\\Users\\Thiago\\OneDrive\\Documentos\\Facul\\6 Sexto semestre\\TCC\\TCC-CDIA\\notebooks\\..\\data\\frames\\images\\64_original.jpg: 384x640 1 person, 10 cars, 2 traffic lights, 493.7ms\n",
      "Speed: 2.0ms preprocess, 493.7ms inference, 1.0ms postprocess per image at shape (1, 3, 384, 640)\n",
      "\n"
     ]
    },
    {
     "name": "stdout",
     "output_type": "stream",
     "text": [
      "Semáforo 1 da imagem 64_original já existe em ../data/processed/outputs/semafaros/standard/traffic_light_64_original.jpg. Não foi salvo novamente.\n",
      "Semáforo 2 da imagem 64_original já existe em ../data/processed/outputs/semafaros/standard/traffic_light_64_original(1).jpg. Não foi salvo novamente.\n"
     ]
    },
    {
     "name": "stderr",
     "output_type": "stream",
     "text": [
      "image 1/1 c:\\Users\\Thiago\\OneDrive\\Documentos\\Facul\\6 Sexto semestre\\TCC\\TCC-CDIA\\notebooks\\..\\data\\frames\\images\\65_original.jpg: 384x640 6 persons, 2 bicycles, 5 cars, 494.6ms\n",
      "Speed: 2.0ms preprocess, 494.6ms inference, 2.0ms postprocess per image at shape (1, 3, 384, 640)\n",
      "\n"
     ]
    },
    {
     "name": "stdout",
     "output_type": "stream",
     "text": [
      "Erro na imagem 65_original.jpg: Nenhum semáforo detectado na imagem.\n"
     ]
    },
    {
     "name": "stderr",
     "output_type": "stream",
     "text": [
      "image 1/1 c:\\Users\\Thiago\\OneDrive\\Documentos\\Facul\\6 Sexto semestre\\TCC\\TCC-CDIA\\notebooks\\..\\data\\frames\\images\\66_original.jpg: 384x640 3 cars, 6 traffic lights, 490.7ms\n",
      "Speed: 2.0ms preprocess, 490.7ms inference, 2.0ms postprocess per image at shape (1, 3, 384, 640)\n",
      "\n"
     ]
    },
    {
     "name": "stdout",
     "output_type": "stream",
     "text": [
      "Semáforo 1 da imagem 66_original já existe em ../data/processed/outputs/semafaros/standard/traffic_light_66_original.jpg. Não foi salvo novamente.\n",
      "Semáforo 2 da imagem 66_original já existe em ../data/processed/outputs/semafaros/standard/traffic_light_66_original(1).jpg. Não foi salvo novamente.\n",
      "Semáforo 3 da imagem 66_original já existe em ../data/processed/outputs/semafaros/standard/traffic_light_66_original(2).jpg. Não foi salvo novamente.\n",
      "Semáforo 4 da imagem 66_original já existe em ../data/processed/outputs/semafaros/standard/traffic_light_66_original(3).jpg. Não foi salvo novamente.\n",
      "Semáforo 5 da imagem 66_original já existe em ../data/processed/outputs/semafaros/standard/traffic_light_66_original(4).jpg. Não foi salvo novamente.\n",
      "Semáforo 6 da imagem 66_original já existe em ../data/processed/outputs/semafaros/standard/traffic_light_66_original(5).jpg. Não foi salvo novamente.\n"
     ]
    },
    {
     "name": "stderr",
     "output_type": "stream",
     "text": [
      "image 1/1 c:\\Users\\Thiago\\OneDrive\\Documentos\\Facul\\6 Sexto semestre\\TCC\\TCC-CDIA\\notebooks\\..\\data\\frames\\images\\67_original.jpg: 384x640 4 persons, 1 bicycle, 5 cars, 1 truck, 504.7ms\n",
      "Speed: 1.0ms preprocess, 504.7ms inference, 2.0ms postprocess per image at shape (1, 3, 384, 640)\n",
      "\n"
     ]
    },
    {
     "name": "stdout",
     "output_type": "stream",
     "text": [
      "Erro na imagem 67_original.jpg: Nenhum semáforo detectado na imagem.\n"
     ]
    },
    {
     "name": "stderr",
     "output_type": "stream",
     "text": [
      "image 1/1 c:\\Users\\Thiago\\OneDrive\\Documentos\\Facul\\6 Sexto semestre\\TCC\\TCC-CDIA\\notebooks\\..\\data\\frames\\images\\68_original.jpg: 384x640 1 person, 7 cars, 1 truck, 484.7ms\n",
      "Speed: 2.0ms preprocess, 484.7ms inference, 1.0ms postprocess per image at shape (1, 3, 384, 640)\n",
      "\n"
     ]
    },
    {
     "name": "stdout",
     "output_type": "stream",
     "text": [
      "Erro na imagem 68_original.jpg: Nenhum semáforo detectado na imagem.\n"
     ]
    },
    {
     "name": "stderr",
     "output_type": "stream",
     "text": [
      "image 1/1 c:\\Users\\Thiago\\OneDrive\\Documentos\\Facul\\6 Sexto semestre\\TCC\\TCC-CDIA\\notebooks\\..\\data\\frames\\images\\69_original.jpg: 384x640 1 person, 6 cars, 1 motorcycle, 1 truck, 492.8ms\n",
      "Speed: 2.0ms preprocess, 492.8ms inference, 2.0ms postprocess per image at shape (1, 3, 384, 640)\n",
      "\n"
     ]
    },
    {
     "name": "stdout",
     "output_type": "stream",
     "text": [
      "Erro na imagem 69_original.jpg: Nenhum semáforo detectado na imagem.\n"
     ]
    },
    {
     "name": "stderr",
     "output_type": "stream",
     "text": [
      "image 1/1 c:\\Users\\Thiago\\OneDrive\\Documentos\\Facul\\6 Sexto semestre\\TCC\\TCC-CDIA\\notebooks\\..\\data\\frames\\images\\6_original.jpg: 384x640 5 cars, 1 truck, 504.8ms\n",
      "Speed: 2.0ms preprocess, 504.8ms inference, 2.0ms postprocess per image at shape (1, 3, 384, 640)\n",
      "\n"
     ]
    },
    {
     "name": "stdout",
     "output_type": "stream",
     "text": [
      "Erro na imagem 6_original.jpg: Nenhum semáforo detectado na imagem.\n"
     ]
    },
    {
     "name": "stderr",
     "output_type": "stream",
     "text": [
      "image 1/1 c:\\Users\\Thiago\\OneDrive\\Documentos\\Facul\\6 Sexto semestre\\TCC\\TCC-CDIA\\notebooks\\..\\data\\frames\\images\\70_original.jpg: 384x640 9 cars, 484.0ms\n",
      "Speed: 2.0ms preprocess, 484.0ms inference, 1.0ms postprocess per image at shape (1, 3, 384, 640)\n",
      "\n"
     ]
    },
    {
     "name": "stdout",
     "output_type": "stream",
     "text": [
      "Erro na imagem 70_original.jpg: Nenhum semáforo detectado na imagem.\n"
     ]
    },
    {
     "name": "stderr",
     "output_type": "stream",
     "text": [
      "image 1/1 c:\\Users\\Thiago\\OneDrive\\Documentos\\Facul\\6 Sexto semestre\\TCC\\TCC-CDIA\\notebooks\\..\\data\\frames\\images\\71_original.jpg: 384x640 7 persons, 1 bicycle, 5 cars, 1 truck, 535.7ms\n",
      "Speed: 2.0ms preprocess, 535.7ms inference, 2.0ms postprocess per image at shape (1, 3, 384, 640)\n",
      "\n"
     ]
    },
    {
     "name": "stdout",
     "output_type": "stream",
     "text": [
      "Erro na imagem 71_original.jpg: Nenhum semáforo detectado na imagem.\n"
     ]
    },
    {
     "name": "stderr",
     "output_type": "stream",
     "text": [
      "image 1/1 c:\\Users\\Thiago\\OneDrive\\Documentos\\Facul\\6 Sexto semestre\\TCC\\TCC-CDIA\\notebooks\\..\\data\\frames\\images\\72_original.jpg: 384x640 9 cars, 2 buss, 1 truck, 2 traffic lights, 1 fire hydrant, 501.7ms\n",
      "Speed: 2.0ms preprocess, 501.7ms inference, 2.0ms postprocess per image at shape (1, 3, 384, 640)\n",
      "\n"
     ]
    },
    {
     "name": "stdout",
     "output_type": "stream",
     "text": [
      "Semáforo 1 da imagem 72_original já existe em ../data/processed/outputs/semafaros/standard/traffic_light_72_original.jpg. Não foi salvo novamente.\n",
      "Semáforo 2 da imagem 72_original já existe em ../data/processed/outputs/semafaros/standard/traffic_light_72_original(1).jpg. Não foi salvo novamente.\n"
     ]
    },
    {
     "name": "stderr",
     "output_type": "stream",
     "text": [
      "image 1/1 c:\\Users\\Thiago\\OneDrive\\Documentos\\Facul\\6 Sexto semestre\\TCC\\TCC-CDIA\\notebooks\\..\\data\\frames\\images\\73_original.jpg: 384x640 3 persons, 1 bicycle, 9 cars, 1 bus, 1 train, 514.6ms\n",
      "Speed: 1.0ms preprocess, 514.6ms inference, 2.0ms postprocess per image at shape (1, 3, 384, 640)\n",
      "\n"
     ]
    },
    {
     "name": "stdout",
     "output_type": "stream",
     "text": [
      "Erro na imagem 73_original.jpg: Nenhum semáforo detectado na imagem.\n"
     ]
    },
    {
     "name": "stderr",
     "output_type": "stream",
     "text": [
      "image 1/1 c:\\Users\\Thiago\\OneDrive\\Documentos\\Facul\\6 Sexto semestre\\TCC\\TCC-CDIA\\notebooks\\..\\data\\frames\\images\\74_original.jpg: 384x640 2 persons, 8 cars, 474.7ms\n",
      "Speed: 2.0ms preprocess, 474.7ms inference, 2.0ms postprocess per image at shape (1, 3, 384, 640)\n",
      "\n"
     ]
    },
    {
     "name": "stdout",
     "output_type": "stream",
     "text": [
      "Erro na imagem 74_original.jpg: Nenhum semáforo detectado na imagem.\n"
     ]
    },
    {
     "name": "stderr",
     "output_type": "stream",
     "text": [
      "image 1/1 c:\\Users\\Thiago\\OneDrive\\Documentos\\Facul\\6 Sexto semestre\\TCC\\TCC-CDIA\\notebooks\\..\\data\\frames\\images\\75_original.jpg: 384x640 1 person, 9 cars, 1 motorcycle, 1 truck, 2 traffic lights, 491.7ms\n",
      "Speed: 2.0ms preprocess, 491.7ms inference, 2.0ms postprocess per image at shape (1, 3, 384, 640)\n",
      "\n"
     ]
    },
    {
     "name": "stdout",
     "output_type": "stream",
     "text": [
      "Semáforo 1 da imagem 75_original já existe em ../data/processed/outputs/semafaros/standard/traffic_light_75_original.jpg. Não foi salvo novamente.\n",
      "Semáforo 2 da imagem 75_original já existe em ../data/processed/outputs/semafaros/standard/traffic_light_75_original(1).jpg. Não foi salvo novamente.\n"
     ]
    },
    {
     "name": "stderr",
     "output_type": "stream",
     "text": [
      "image 1/1 c:\\Users\\Thiago\\OneDrive\\Documentos\\Facul\\6 Sexto semestre\\TCC\\TCC-CDIA\\notebooks\\..\\data\\frames\\images\\76_original.jpg: 384x640 2 persons, 2 cars, 1 motorcycle, 1 truck, 486.7ms\n",
      "Speed: 2.0ms preprocess, 486.7ms inference, 2.0ms postprocess per image at shape (1, 3, 384, 640)\n",
      "\n"
     ]
    },
    {
     "name": "stdout",
     "output_type": "stream",
     "text": [
      "Erro na imagem 76_original.jpg: Nenhum semáforo detectado na imagem.\n"
     ]
    },
    {
     "name": "stderr",
     "output_type": "stream",
     "text": [
      "image 1/1 c:\\Users\\Thiago\\OneDrive\\Documentos\\Facul\\6 Sexto semestre\\TCC\\TCC-CDIA\\notebooks\\..\\data\\frames\\images\\77_original.jpg: 384x640 11 cars, 459.8ms\n",
      "Speed: 2.0ms preprocess, 459.8ms inference, 2.0ms postprocess per image at shape (1, 3, 384, 640)\n",
      "\n"
     ]
    },
    {
     "name": "stdout",
     "output_type": "stream",
     "text": [
      "Erro na imagem 77_original.jpg: Nenhum semáforo detectado na imagem.\n"
     ]
    },
    {
     "name": "stderr",
     "output_type": "stream",
     "text": [
      "image 1/1 c:\\Users\\Thiago\\OneDrive\\Documentos\\Facul\\6 Sexto semestre\\TCC\\TCC-CDIA\\notebooks\\..\\data\\frames\\images\\78_original.jpg: 384x640 12 persons, 2 cars, 2 motorcycles, 6 traffic lights, 1 dog, 1 backpack, 460.8ms\n",
      "Speed: 2.0ms preprocess, 460.8ms inference, 3.0ms postprocess per image at shape (1, 3, 384, 640)\n",
      "\n"
     ]
    },
    {
     "name": "stdout",
     "output_type": "stream",
     "text": [
      "Semáforo 1 da imagem 78_original já existe em ../data/processed/outputs/semafaros/standard/traffic_light_78_original.jpg. Não foi salvo novamente.\n",
      "Semáforo 2 da imagem 78_original já existe em ../data/processed/outputs/semafaros/standard/traffic_light_78_original(1).jpg. Não foi salvo novamente.\n",
      "Semáforo 3 da imagem 78_original já existe em ../data/processed/outputs/semafaros/standard/traffic_light_78_original(2).jpg. Não foi salvo novamente.\n",
      "Semáforo 4 da imagem 78_original já existe em ../data/processed/outputs/semafaros/standard/traffic_light_78_original(3).jpg. Não foi salvo novamente.\n",
      "Semáforo 5 da imagem 78_original já existe em ../data/processed/outputs/semafaros/standard/traffic_light_78_original(4).jpg. Não foi salvo novamente.\n",
      "Semáforo 6 da imagem 78_original já existe em ../data/processed/outputs/semafaros/standard/traffic_light_78_original(5).jpg. Não foi salvo novamente.\n"
     ]
    },
    {
     "name": "stderr",
     "output_type": "stream",
     "text": [
      "image 1/1 c:\\Users\\Thiago\\OneDrive\\Documentos\\Facul\\6 Sexto semestre\\TCC\\TCC-CDIA\\notebooks\\..\\data\\frames\\images\\79_original.jpg: 384x640 3 persons, 1 car, 1 truck, 1 potted plant, 498.7ms\n",
      "Speed: 2.0ms preprocess, 498.7ms inference, 2.0ms postprocess per image at shape (1, 3, 384, 640)\n",
      "\n"
     ]
    },
    {
     "name": "stdout",
     "output_type": "stream",
     "text": [
      "Erro na imagem 79_original.jpg: Nenhum semáforo detectado na imagem.\n"
     ]
    },
    {
     "name": "stderr",
     "output_type": "stream",
     "text": [
      "image 1/1 c:\\Users\\Thiago\\OneDrive\\Documentos\\Facul\\6 Sexto semestre\\TCC\\TCC-CDIA\\notebooks\\..\\data\\frames\\images\\7_original.jpg: 384x640 5 cars, 1 truck, 530.8ms\n",
      "Speed: 2.0ms preprocess, 530.8ms inference, 2.0ms postprocess per image at shape (1, 3, 384, 640)\n",
      "\n"
     ]
    },
    {
     "name": "stdout",
     "output_type": "stream",
     "text": [
      "Erro na imagem 7_original.jpg: Nenhum semáforo detectado na imagem.\n"
     ]
    },
    {
     "name": "stderr",
     "output_type": "stream",
     "text": [
      "image 1/1 c:\\Users\\Thiago\\OneDrive\\Documentos\\Facul\\6 Sexto semestre\\TCC\\TCC-CDIA\\notebooks\\..\\data\\frames\\images\\80_original.jpg: 384x640 7 cars, 497.9ms\n",
      "Speed: 2.0ms preprocess, 497.9ms inference, 3.0ms postprocess per image at shape (1, 3, 384, 640)\n",
      "\n"
     ]
    },
    {
     "name": "stdout",
     "output_type": "stream",
     "text": [
      "Erro na imagem 80_original.jpg: Nenhum semáforo detectado na imagem.\n"
     ]
    },
    {
     "name": "stderr",
     "output_type": "stream",
     "text": [
      "image 1/1 c:\\Users\\Thiago\\OneDrive\\Documentos\\Facul\\6 Sexto semestre\\TCC\\TCC-CDIA\\notebooks\\..\\data\\frames\\images\\81_original.jpg: 384x640 5 cars, 1 stop sign, 471.7ms\n",
      "Speed: 3.0ms preprocess, 471.7ms inference, 2.0ms postprocess per image at shape (1, 3, 384, 640)\n",
      "\n"
     ]
    },
    {
     "name": "stdout",
     "output_type": "stream",
     "text": [
      "Erro na imagem 81_original.jpg: Nenhum semáforo detectado na imagem.\n"
     ]
    },
    {
     "name": "stderr",
     "output_type": "stream",
     "text": [
      "image 1/1 c:\\Users\\Thiago\\OneDrive\\Documentos\\Facul\\6 Sexto semestre\\TCC\\TCC-CDIA\\notebooks\\..\\data\\frames\\images\\82_original.jpg: 384x640 3 cars, 1 traffic light, 484.7ms\n",
      "Speed: 2.0ms preprocess, 484.7ms inference, 2.0ms postprocess per image at shape (1, 3, 384, 640)\n",
      "\n"
     ]
    },
    {
     "name": "stdout",
     "output_type": "stream",
     "text": [
      "Semáforo 1 da imagem 82_original já existe em ../data/processed/outputs/semafaros/standard/traffic_light_82_original.jpg. Não foi salvo novamente.\n"
     ]
    },
    {
     "name": "stderr",
     "output_type": "stream",
     "text": [
      "image 1/1 c:\\Users\\Thiago\\OneDrive\\Documentos\\Facul\\6 Sexto semestre\\TCC\\TCC-CDIA\\notebooks\\..\\data\\frames\\images\\83_original.jpg: 384x640 1 person, 1 bicycle, 5 cars, 481.9ms\n",
      "Speed: 2.0ms preprocess, 481.9ms inference, 1.0ms postprocess per image at shape (1, 3, 384, 640)\n",
      "\n"
     ]
    },
    {
     "name": "stdout",
     "output_type": "stream",
     "text": [
      "Erro na imagem 83_original.jpg: Nenhum semáforo detectado na imagem.\n"
     ]
    },
    {
     "name": "stderr",
     "output_type": "stream",
     "text": [
      "image 1/1 c:\\Users\\Thiago\\OneDrive\\Documentos\\Facul\\6 Sexto semestre\\TCC\\TCC-CDIA\\notebooks\\..\\data\\frames\\images\\84_original.jpg: 384x640 9 cars, 1 truck, 466.7ms\n",
      "Speed: 2.0ms preprocess, 466.7ms inference, 2.0ms postprocess per image at shape (1, 3, 384, 640)\n",
      "\n"
     ]
    },
    {
     "name": "stdout",
     "output_type": "stream",
     "text": [
      "Erro na imagem 84_original.jpg: Nenhum semáforo detectado na imagem.\n"
     ]
    },
    {
     "name": "stderr",
     "output_type": "stream",
     "text": [
      "image 1/1 c:\\Users\\Thiago\\OneDrive\\Documentos\\Facul\\6 Sexto semestre\\TCC\\TCC-CDIA\\notebooks\\..\\data\\frames\\images\\85_original.jpg: 384x640 10 cars, 493.7ms\n",
      "Speed: 2.0ms preprocess, 493.7ms inference, 1.0ms postprocess per image at shape (1, 3, 384, 640)\n",
      "\n"
     ]
    },
    {
     "name": "stdout",
     "output_type": "stream",
     "text": [
      "Erro na imagem 85_original.jpg: Nenhum semáforo detectado na imagem.\n"
     ]
    },
    {
     "name": "stderr",
     "output_type": "stream",
     "text": [
      "image 1/1 c:\\Users\\Thiago\\OneDrive\\Documentos\\Facul\\6 Sexto semestre\\TCC\\TCC-CDIA\\notebooks\\..\\data\\frames\\images\\86_original.jpg: 384x640 9 persons, 4 cars, 3 traffic lights, 1 handbag, 459.9ms\n",
      "Speed: 5.0ms preprocess, 459.9ms inference, 2.0ms postprocess per image at shape (1, 3, 384, 640)\n",
      "\n"
     ]
    },
    {
     "name": "stdout",
     "output_type": "stream",
     "text": [
      "Semáforo 1 da imagem 86_original já existe em ../data/processed/outputs/semafaros/standard/traffic_light_86_original.jpg. Não foi salvo novamente.\n",
      "Semáforo 2 da imagem 86_original já existe em ../data/processed/outputs/semafaros/standard/traffic_light_86_original(1).jpg. Não foi salvo novamente.\n",
      "Semáforo 3 da imagem 86_original já existe em ../data/processed/outputs/semafaros/standard/traffic_light_86_original(2).jpg. Não foi salvo novamente.\n"
     ]
    },
    {
     "name": "stderr",
     "output_type": "stream",
     "text": [
      "image 1/1 c:\\Users\\Thiago\\OneDrive\\Documentos\\Facul\\6 Sexto semestre\\TCC\\TCC-CDIA\\notebooks\\..\\data\\frames\\images\\87_original.jpg: 384x640 2 persons, 8 cars, 511.7ms\n",
      "Speed: 2.0ms preprocess, 511.7ms inference, 2.0ms postprocess per image at shape (1, 3, 384, 640)\n",
      "\n"
     ]
    },
    {
     "name": "stdout",
     "output_type": "stream",
     "text": [
      "Erro na imagem 87_original.jpg: Nenhum semáforo detectado na imagem.\n"
     ]
    },
    {
     "name": "stderr",
     "output_type": "stream",
     "text": [
      "image 1/1 c:\\Users\\Thiago\\OneDrive\\Documentos\\Facul\\6 Sexto semestre\\TCC\\TCC-CDIA\\notebooks\\..\\data\\frames\\images\\88_original.jpg: 384x640 3 cars, 1 fire hydrant, 552.5ms\n",
      "Speed: 3.0ms preprocess, 552.5ms inference, 2.0ms postprocess per image at shape (1, 3, 384, 640)\n",
      "\n"
     ]
    },
    {
     "name": "stdout",
     "output_type": "stream",
     "text": [
      "Erro na imagem 88_original.jpg: Nenhum semáforo detectado na imagem.\n"
     ]
    },
    {
     "name": "stderr",
     "output_type": "stream",
     "text": [
      "image 1/1 c:\\Users\\Thiago\\OneDrive\\Documentos\\Facul\\6 Sexto semestre\\TCC\\TCC-CDIA\\notebooks\\..\\data\\frames\\images\\89_original.jpg: 384x640 1 person, 2 cars, 1 boat, 1 fire hydrant, 490.7ms\n",
      "Speed: 2.0ms preprocess, 490.7ms inference, 2.0ms postprocess per image at shape (1, 3, 384, 640)\n",
      "\n"
     ]
    },
    {
     "name": "stdout",
     "output_type": "stream",
     "text": [
      "Erro na imagem 89_original.jpg: Nenhum semáforo detectado na imagem.\n"
     ]
    },
    {
     "name": "stderr",
     "output_type": "stream",
     "text": [
      "image 1/1 c:\\Users\\Thiago\\OneDrive\\Documentos\\Facul\\6 Sexto semestre\\TCC\\TCC-CDIA\\notebooks\\..\\data\\frames\\images\\8_original.jpg: 384x640 1 person, 9 cars, 1 truck, 1 traffic light, 486.7ms\n",
      "Speed: 1.0ms preprocess, 486.7ms inference, 2.0ms postprocess per image at shape (1, 3, 384, 640)\n",
      "\n"
     ]
    },
    {
     "name": "stdout",
     "output_type": "stream",
     "text": [
      "Semáforo 1 da imagem 8_original já existe em ../data/processed/outputs/semafaros/standard/traffic_light_8_original.jpg. Não foi salvo novamente.\n"
     ]
    },
    {
     "name": "stderr",
     "output_type": "stream",
     "text": [
      "image 1/1 c:\\Users\\Thiago\\OneDrive\\Documentos\\Facul\\6 Sexto semestre\\TCC\\TCC-CDIA\\notebooks\\..\\data\\frames\\images\\90_original.jpg: 384x640 6 persons, 6 cars, 4 traffic lights, 1 backpack, 489.8ms\n",
      "Speed: 2.0ms preprocess, 489.8ms inference, 1.0ms postprocess per image at shape (1, 3, 384, 640)\n",
      "\n"
     ]
    },
    {
     "name": "stdout",
     "output_type": "stream",
     "text": [
      "Semáforo 1 da imagem 90_original já existe em ../data/processed/outputs/semafaros/standard/traffic_light_90_original.jpg. Não foi salvo novamente.\n",
      "Semáforo 2 da imagem 90_original já existe em ../data/processed/outputs/semafaros/standard/traffic_light_90_original(1).jpg. Não foi salvo novamente.\n",
      "Semáforo 3 da imagem 90_original já existe em ../data/processed/outputs/semafaros/standard/traffic_light_90_original(2).jpg. Não foi salvo novamente.\n",
      "Semáforo 4 da imagem 90_original já existe em ../data/processed/outputs/semafaros/standard/traffic_light_90_original(3).jpg. Não foi salvo novamente.\n"
     ]
    },
    {
     "name": "stderr",
     "output_type": "stream",
     "text": [
      "image 1/1 c:\\Users\\Thiago\\OneDrive\\Documentos\\Facul\\6 Sexto semestre\\TCC\\TCC-CDIA\\notebooks\\..\\data\\frames\\images\\91_original.jpg: 384x640 1 person, 4 cars, 468.2ms\n",
      "Speed: 2.0ms preprocess, 468.2ms inference, 2.0ms postprocess per image at shape (1, 3, 384, 640)\n",
      "\n"
     ]
    },
    {
     "name": "stdout",
     "output_type": "stream",
     "text": [
      "Erro na imagem 91_original.jpg: Nenhum semáforo detectado na imagem.\n"
     ]
    },
    {
     "name": "stderr",
     "output_type": "stream",
     "text": [
      "image 1/1 c:\\Users\\Thiago\\OneDrive\\Documentos\\Facul\\6 Sexto semestre\\TCC\\TCC-CDIA\\notebooks\\..\\data\\frames\\images\\92_original.jpg: 384x640 6 cars, 1 boat, 507.7ms\n",
      "Speed: 3.0ms preprocess, 507.7ms inference, 1.0ms postprocess per image at shape (1, 3, 384, 640)\n",
      "\n"
     ]
    },
    {
     "name": "stdout",
     "output_type": "stream",
     "text": [
      "Erro na imagem 92_original.jpg: Nenhum semáforo detectado na imagem.\n"
     ]
    },
    {
     "name": "stderr",
     "output_type": "stream",
     "text": [
      "image 1/1 c:\\Users\\Thiago\\OneDrive\\Documentos\\Facul\\6 Sexto semestre\\TCC\\TCC-CDIA\\notebooks\\..\\data\\frames\\images\\93_original.jpg: 384x640 5 cars, 460.3ms\n",
      "Speed: 4.0ms preprocess, 460.3ms inference, 2.0ms postprocess per image at shape (1, 3, 384, 640)\n",
      "\n"
     ]
    },
    {
     "name": "stdout",
     "output_type": "stream",
     "text": [
      "Erro na imagem 93_original.jpg: Nenhum semáforo detectado na imagem.\n"
     ]
    },
    {
     "name": "stderr",
     "output_type": "stream",
     "text": [
      "image 1/1 c:\\Users\\Thiago\\OneDrive\\Documentos\\Facul\\6 Sexto semestre\\TCC\\TCC-CDIA\\notebooks\\..\\data\\frames\\images\\94_original.jpg: 384x640 9 cars, 1 truck, 488.9ms\n",
      "Speed: 3.0ms preprocess, 488.9ms inference, 2.0ms postprocess per image at shape (1, 3, 384, 640)\n",
      "\n"
     ]
    },
    {
     "name": "stdout",
     "output_type": "stream",
     "text": [
      "Erro na imagem 94_original.jpg: Nenhum semáforo detectado na imagem.\n"
     ]
    },
    {
     "name": "stderr",
     "output_type": "stream",
     "text": [
      "image 1/1 c:\\Users\\Thiago\\OneDrive\\Documentos\\Facul\\6 Sexto semestre\\TCC\\TCC-CDIA\\notebooks\\..\\data\\frames\\images\\95_original.jpg: 384x640 3 persons, 5 cars, 2 motorcycles, 4 traffic lights, 497.7ms\n",
      "Speed: 2.0ms preprocess, 497.7ms inference, 2.0ms postprocess per image at shape (1, 3, 384, 640)\n",
      "\n"
     ]
    },
    {
     "name": "stdout",
     "output_type": "stream",
     "text": [
      "Semáforo 1 da imagem 95_original já existe em ../data/processed/outputs/semafaros/standard/traffic_light_95_original.jpg. Não foi salvo novamente.\n",
      "Semáforo 2 da imagem 95_original já existe em ../data/processed/outputs/semafaros/standard/traffic_light_95_original(1).jpg. Não foi salvo novamente.\n",
      "Semáforo 3 da imagem 95_original já existe em ../data/processed/outputs/semafaros/standard/traffic_light_95_original(2).jpg. Não foi salvo novamente.\n",
      "Semáforo 4 da imagem 95_original já existe em ../data/processed/outputs/semafaros/standard/traffic_light_95_original(3).jpg. Não foi salvo novamente.\n"
     ]
    },
    {
     "name": "stderr",
     "output_type": "stream",
     "text": [
      "image 1/1 c:\\Users\\Thiago\\OneDrive\\Documentos\\Facul\\6 Sexto semestre\\TCC\\TCC-CDIA\\notebooks\\..\\data\\frames\\images\\96_original.jpg: 384x640 8 cars, 526.9ms\n",
      "Speed: 2.0ms preprocess, 526.9ms inference, 2.0ms postprocess per image at shape (1, 3, 384, 640)\n",
      "\n"
     ]
    },
    {
     "name": "stdout",
     "output_type": "stream",
     "text": [
      "Erro na imagem 96_original.jpg: Nenhum semáforo detectado na imagem.\n"
     ]
    },
    {
     "name": "stderr",
     "output_type": "stream",
     "text": [
      "image 1/1 c:\\Users\\Thiago\\OneDrive\\Documentos\\Facul\\6 Sexto semestre\\TCC\\TCC-CDIA\\notebooks\\..\\data\\frames\\images\\97_original.jpg: 384x640 2 persons, 6 cars, 2 trucks, 2 traffic lights, 481.7ms\n",
      "Speed: 2.0ms preprocess, 481.7ms inference, 2.0ms postprocess per image at shape (1, 3, 384, 640)\n",
      "\n"
     ]
    },
    {
     "name": "stdout",
     "output_type": "stream",
     "text": [
      "Semáforo 1 da imagem 97_original já existe em ../data/processed/outputs/semafaros/standard/traffic_light_97_original.jpg. Não foi salvo novamente.\n",
      "Semáforo 2 da imagem 97_original já existe em ../data/processed/outputs/semafaros/standard/traffic_light_97_original(1).jpg. Não foi salvo novamente.\n"
     ]
    },
    {
     "name": "stderr",
     "output_type": "stream",
     "text": [
      "image 1/1 c:\\Users\\Thiago\\OneDrive\\Documentos\\Facul\\6 Sexto semestre\\TCC\\TCC-CDIA\\notebooks\\..\\data\\frames\\images\\98_original.jpg: 384x640 2 persons, 6 cars, 2 traffic lights, 462.8ms\n",
      "Speed: 2.0ms preprocess, 462.8ms inference, 2.0ms postprocess per image at shape (1, 3, 384, 640)\n",
      "\n"
     ]
    },
    {
     "name": "stdout",
     "output_type": "stream",
     "text": [
      "Semáforo 1 da imagem 98_original já existe em ../data/processed/outputs/semafaros/standard/traffic_light_98_original.jpg. Não foi salvo novamente.\n",
      "Semáforo 2 da imagem 98_original já existe em ../data/processed/outputs/semafaros/standard/traffic_light_98_original(1).jpg. Não foi salvo novamente.\n"
     ]
    },
    {
     "name": "stderr",
     "output_type": "stream",
     "text": [
      "image 1/1 c:\\Users\\Thiago\\OneDrive\\Documentos\\Facul\\6 Sexto semestre\\TCC\\TCC-CDIA\\notebooks\\..\\data\\frames\\images\\99_original.jpg: 384x640 4 cars, 3 traffic lights, 490.8ms\n",
      "Speed: 2.0ms preprocess, 490.8ms inference, 2.0ms postprocess per image at shape (1, 3, 384, 640)\n",
      "\n"
     ]
    },
    {
     "name": "stdout",
     "output_type": "stream",
     "text": [
      "Semáforo 1 da imagem 99_original já existe em ../data/processed/outputs/semafaros/standard/traffic_light_99_original.jpg. Não foi salvo novamente.\n",
      "Semáforo 2 da imagem 99_original já existe em ../data/processed/outputs/semafaros/standard/traffic_light_99_original(1).jpg. Não foi salvo novamente.\n",
      "Semáforo 3 da imagem 99_original já existe em ../data/processed/outputs/semafaros/standard/traffic_light_99_original(2).jpg. Não foi salvo novamente.\n"
     ]
    },
    {
     "name": "stderr",
     "output_type": "stream",
     "text": [
      "image 1/1 c:\\Users\\Thiago\\OneDrive\\Documentos\\Facul\\6 Sexto semestre\\TCC\\TCC-CDIA\\notebooks\\..\\data\\frames\\images\\9_original.jpg: 384x640 9 cars, 1 bus, 1 truck, 497.7ms\n",
      "Speed: 2.0ms preprocess, 497.7ms inference, 3.0ms postprocess per image at shape (1, 3, 384, 640)\n"
     ]
    },
    {
     "name": "stdout",
     "output_type": "stream",
     "text": [
      "Erro na imagem 9_original.jpg: Nenhum semáforo detectado na imagem.\n"
     ]
    }
   ],
   "source": [
    "model = YOLO('../models/yolo/yolov8m.pt')\n",
    "image_directory = '../data/frames/images'\n",
    "\n",
    "for filename in os.listdir(image_directory):\n",
    "    if filename.endswith(\"_original.jpg\"):\n",
    "        image_path = os.path.join(image_directory, filename)\n",
    "        pred = PredPipe(model, image_path, 0, 0)\n",
    "        \n",
    "        try:\n",
    "            # Tente predizer os semáforos na imagem\n",
    "            pred.predict_image(add_noise=False)\n",
    "        except ValueError as e:\n",
    "            # Se nenhum semáforo for encontrado, imprima o erro\n",
    "            print(f\"Erro na imagem {filename}: {str(e)}\")"
   ]
  },
  {
   "cell_type": "code",
   "execution_count": 37,
   "metadata": {},
   "outputs": [
    {
     "name": "stdout",
     "output_type": "stream",
     "text": [
      "Imagem traffic_light_100_original(1).jpg com ruído aplicado e salva como traffic_light_100_original(1)_noisy.jpg\n",
      "Imagem traffic_light_100_original.jpg com ruído aplicado e salva como traffic_light_100_original_noisy.jpg\n",
      "Imagem traffic_light_101_original(1).jpg com ruído aplicado e salva como traffic_light_101_original(1)_noisy.jpg\n",
      "Imagem traffic_light_101_original(2).jpg com ruído aplicado e salva como traffic_light_101_original(2)_noisy.jpg\n",
      "Imagem traffic_light_101_original.jpg com ruído aplicado e salva como traffic_light_101_original_noisy.jpg\n",
      "Imagem traffic_light_102_original(1).jpg com ruído aplicado e salva como traffic_light_102_original(1)_noisy.jpg\n",
      "Imagem traffic_light_102_original(2).jpg com ruído aplicado e salva como traffic_light_102_original(2)_noisy.jpg\n",
      "Imagem traffic_light_102_original.jpg com ruído aplicado e salva como traffic_light_102_original_noisy.jpg\n",
      "Imagem traffic_light_103_original(1).jpg com ruído aplicado e salva como traffic_light_103_original(1)_noisy.jpg\n",
      "Imagem traffic_light_103_original.jpg com ruído aplicado e salva como traffic_light_103_original_noisy.jpg\n",
      "Imagem traffic_light_104_original.jpg com ruído aplicado e salva como traffic_light_104_original_noisy.jpg\n",
      "Imagem traffic_light_105_original.jpg com ruído aplicado e salva como traffic_light_105_original_noisy.jpg\n",
      "Imagem traffic_light_106_original.jpg com ruído aplicado e salva como traffic_light_106_original_noisy.jpg\n",
      "Imagem traffic_light_108_original.jpg com ruído aplicado e salva como traffic_light_108_original_noisy.jpg\n",
      "Imagem traffic_light_109_original(1).jpg com ruído aplicado e salva como traffic_light_109_original(1)_noisy.jpg\n",
      "Imagem traffic_light_109_original.jpg com ruído aplicado e salva como traffic_light_109_original_noisy.jpg\n",
      "Imagem traffic_light_110_original(1).jpg com ruído aplicado e salva como traffic_light_110_original(1)_noisy.jpg\n",
      "Imagem traffic_light_110_original(2).jpg com ruído aplicado e salva como traffic_light_110_original(2)_noisy.jpg\n",
      "Imagem traffic_light_110_original.jpg com ruído aplicado e salva como traffic_light_110_original_noisy.jpg\n",
      "Imagem traffic_light_112_original(1).jpg com ruído aplicado e salva como traffic_light_112_original(1)_noisy.jpg\n",
      "Imagem traffic_light_112_original(2).jpg com ruído aplicado e salva como traffic_light_112_original(2)_noisy.jpg\n",
      "Imagem traffic_light_112_original.jpg com ruído aplicado e salva como traffic_light_112_original_noisy.jpg\n",
      "Imagem traffic_light_117_original.jpg com ruído aplicado e salva como traffic_light_117_original_noisy.jpg\n",
      "Imagem traffic_light_118_original(1).jpg com ruído aplicado e salva como traffic_light_118_original(1)_noisy.jpg\n",
      "Imagem traffic_light_118_original(2).jpg com ruído aplicado e salva como traffic_light_118_original(2)_noisy.jpg\n",
      "Imagem traffic_light_118_original.jpg com ruído aplicado e salva como traffic_light_118_original_noisy.jpg\n",
      "Imagem traffic_light_119_original.jpg com ruído aplicado e salva como traffic_light_119_original_noisy.jpg\n",
      "Imagem traffic_light_120_original.jpg com ruído aplicado e salva como traffic_light_120_original_noisy.jpg\n",
      "Imagem traffic_light_123_original.jpg com ruído aplicado e salva como traffic_light_123_original_noisy.jpg\n",
      "Imagem traffic_light_125_original.jpg com ruído aplicado e salva como traffic_light_125_original_noisy.jpg\n",
      "Imagem traffic_light_126_original(1).jpg com ruído aplicado e salva como traffic_light_126_original(1)_noisy.jpg\n",
      "Imagem traffic_light_126_original.jpg com ruído aplicado e salva como traffic_light_126_original_noisy.jpg\n",
      "Imagem traffic_light_127_original.jpg com ruído aplicado e salva como traffic_light_127_original_noisy.jpg\n",
      "Imagem traffic_light_129_original(1).jpg com ruído aplicado e salva como traffic_light_129_original(1)_noisy.jpg\n",
      "Imagem traffic_light_129_original(2).jpg com ruído aplicado e salva como traffic_light_129_original(2)_noisy.jpg\n",
      "Imagem traffic_light_129_original(3).jpg com ruído aplicado e salva como traffic_light_129_original(3)_noisy.jpg\n",
      "Imagem traffic_light_129_original(4).jpg com ruído aplicado e salva como traffic_light_129_original(4)_noisy.jpg\n",
      "Imagem traffic_light_129_original.jpg com ruído aplicado e salva como traffic_light_129_original_noisy.jpg\n",
      "Imagem traffic_light_12_original.jpg com ruído aplicado e salva como traffic_light_12_original_noisy.jpg\n",
      "Imagem traffic_light_131_original.jpg com ruído aplicado e salva como traffic_light_131_original_noisy.jpg\n",
      "Imagem traffic_light_132_original.jpg com ruído aplicado e salva como traffic_light_132_original_noisy.jpg\n",
      "Imagem traffic_light_138_original(1).jpg com ruído aplicado e salva como traffic_light_138_original(1)_noisy.jpg\n",
      "Imagem traffic_light_138_original.jpg com ruído aplicado e salva como traffic_light_138_original_noisy.jpg\n",
      "Imagem traffic_light_139_original(1).jpg com ruído aplicado e salva como traffic_light_139_original(1)_noisy.jpg\n",
      "Imagem traffic_light_139_original.jpg com ruído aplicado e salva como traffic_light_139_original_noisy.jpg\n",
      "Imagem traffic_light_13_original.jpg com ruído aplicado e salva como traffic_light_13_original_noisy.jpg\n",
      "Imagem traffic_light_140_original.jpg com ruído aplicado e salva como traffic_light_140_original_noisy.jpg\n",
      "Imagem traffic_light_142_original(1).jpg com ruído aplicado e salva como traffic_light_142_original(1)_noisy.jpg\n",
      "Imagem traffic_light_142_original.jpg com ruído aplicado e salva como traffic_light_142_original_noisy.jpg\n",
      "Imagem traffic_light_143_original(1).jpg com ruído aplicado e salva como traffic_light_143_original(1)_noisy.jpg\n",
      "Imagem traffic_light_143_original.jpg com ruído aplicado e salva como traffic_light_143_original_noisy.jpg\n",
      "Imagem traffic_light_144_original(1).jpg com ruído aplicado e salva como traffic_light_144_original(1)_noisy.jpg\n",
      "Imagem traffic_light_144_original.jpg com ruído aplicado e salva como traffic_light_144_original_noisy.jpg\n",
      "Imagem traffic_light_146_original.jpg com ruído aplicado e salva como traffic_light_146_original_noisy.jpg\n",
      "Imagem traffic_light_148_original.jpg com ruído aplicado e salva como traffic_light_148_original_noisy.jpg\n",
      "Imagem traffic_light_149_original.jpg com ruído aplicado e salva como traffic_light_149_original_noisy.jpg\n",
      "Imagem traffic_light_14_original(1).jpg com ruído aplicado e salva como traffic_light_14_original(1)_noisy.jpg\n",
      "Imagem traffic_light_14_original.jpg com ruído aplicado e salva como traffic_light_14_original_noisy.jpg\n",
      "Imagem traffic_light_150_original.jpg com ruído aplicado e salva como traffic_light_150_original_noisy.jpg\n",
      "Imagem traffic_light_153_original.jpg com ruído aplicado e salva como traffic_light_153_original_noisy.jpg\n",
      "Imagem traffic_light_155_original.jpg com ruído aplicado e salva como traffic_light_155_original_noisy.jpg\n",
      "Imagem traffic_light_157_original(1).jpg com ruído aplicado e salva como traffic_light_157_original(1)_noisy.jpg\n",
      "Imagem traffic_light_157_original.jpg com ruído aplicado e salva como traffic_light_157_original_noisy.jpg\n",
      "Imagem traffic_light_158_original(1).jpg com ruído aplicado e salva como traffic_light_158_original(1)_noisy.jpg\n",
      "Imagem traffic_light_158_original.jpg com ruído aplicado e salva como traffic_light_158_original_noisy.jpg\n",
      "Imagem traffic_light_159_original(1).jpg com ruído aplicado e salva como traffic_light_159_original(1)_noisy.jpg\n",
      "Imagem traffic_light_159_original(2).jpg com ruído aplicado e salva como traffic_light_159_original(2)_noisy.jpg\n",
      "Imagem traffic_light_159_original.jpg com ruído aplicado e salva como traffic_light_159_original_noisy.jpg\n",
      "Imagem traffic_light_161_original(1).jpg com ruído aplicado e salva como traffic_light_161_original(1)_noisy.jpg\n",
      "Imagem traffic_light_161_original(2).jpg com ruído aplicado e salva como traffic_light_161_original(2)_noisy.jpg\n",
      "Imagem traffic_light_161_original.jpg com ruído aplicado e salva como traffic_light_161_original_noisy.jpg\n",
      "Imagem traffic_light_162_original(1).jpg com ruído aplicado e salva como traffic_light_162_original(1)_noisy.jpg\n",
      "Imagem traffic_light_162_original(2).jpg com ruído aplicado e salva como traffic_light_162_original(2)_noisy.jpg\n",
      "Imagem traffic_light_162_original(3).jpg com ruído aplicado e salva como traffic_light_162_original(3)_noisy.jpg\n",
      "Imagem traffic_light_162_original.jpg com ruído aplicado e salva como traffic_light_162_original_noisy.jpg\n",
      "Imagem traffic_light_166_original.jpg com ruído aplicado e salva como traffic_light_166_original_noisy.jpg\n",
      "Imagem traffic_light_167_original.jpg com ruído aplicado e salva como traffic_light_167_original_noisy.jpg\n",
      "Imagem traffic_light_17_original(1).jpg com ruído aplicado e salva como traffic_light_17_original(1)_noisy.jpg\n",
      "Imagem traffic_light_17_original(2).jpg com ruído aplicado e salva como traffic_light_17_original(2)_noisy.jpg\n",
      "Imagem traffic_light_17_original.jpg com ruído aplicado e salva como traffic_light_17_original_noisy.jpg\n",
      "Imagem traffic_light_18_original(1).jpg com ruído aplicado e salva como traffic_light_18_original(1)_noisy.jpg\n",
      "Imagem traffic_light_18_original(2).jpg com ruído aplicado e salva como traffic_light_18_original(2)_noisy.jpg\n",
      "Imagem traffic_light_18_original.jpg com ruído aplicado e salva como traffic_light_18_original_noisy.jpg\n",
      "Imagem traffic_light_19_original.jpg com ruído aplicado e salva como traffic_light_19_original_noisy.jpg\n",
      "Imagem traffic_light_1_original(1).jpg com ruído aplicado e salva como traffic_light_1_original(1)_noisy.jpg\n",
      "Imagem traffic_light_1_original.jpg com ruído aplicado e salva como traffic_light_1_original_noisy.jpg\n",
      "Imagem traffic_light_21_original(1).jpg com ruído aplicado e salva como traffic_light_21_original(1)_noisy.jpg\n",
      "Imagem traffic_light_21_original(2).jpg com ruído aplicado e salva como traffic_light_21_original(2)_noisy.jpg\n",
      "Imagem traffic_light_21_original.jpg com ruído aplicado e salva como traffic_light_21_original_noisy.jpg\n",
      "Imagem traffic_light_29_original.jpg com ruído aplicado e salva como traffic_light_29_original_noisy.jpg\n",
      "Imagem traffic_light_32_original.jpg com ruído aplicado e salva como traffic_light_32_original_noisy.jpg\n",
      "Imagem traffic_light_34_original.jpg com ruído aplicado e salva como traffic_light_34_original_noisy.jpg\n",
      "Imagem traffic_light_35_original.jpg com ruído aplicado e salva como traffic_light_35_original_noisy.jpg\n",
      "Imagem traffic_light_37_original.jpg com ruído aplicado e salva como traffic_light_37_original_noisy.jpg\n",
      "Imagem traffic_light_3_original(1).jpg com ruído aplicado e salva como traffic_light_3_original(1)_noisy.jpg\n",
      "Imagem traffic_light_3_original(2).jpg com ruído aplicado e salva como traffic_light_3_original(2)_noisy.jpg\n",
      "Imagem traffic_light_3_original.jpg com ruído aplicado e salva como traffic_light_3_original_noisy.jpg\n",
      "Imagem traffic_light_41_original(1).jpg com ruído aplicado e salva como traffic_light_41_original(1)_noisy.jpg\n",
      "Imagem traffic_light_41_original(2).jpg com ruído aplicado e salva como traffic_light_41_original(2)_noisy.jpg\n",
      "Imagem traffic_light_41_original(3).jpg com ruído aplicado e salva como traffic_light_41_original(3)_noisy.jpg\n",
      "Imagem traffic_light_41_original.jpg com ruído aplicado e salva como traffic_light_41_original_noisy.jpg\n",
      "Imagem traffic_light_42_original(1).jpg com ruído aplicado e salva como traffic_light_42_original(1)_noisy.jpg\n",
      "Imagem traffic_light_42_original.jpg com ruído aplicado e salva como traffic_light_42_original_noisy.jpg\n",
      "Imagem traffic_light_44_original(1).jpg com ruído aplicado e salva como traffic_light_44_original(1)_noisy.jpg\n",
      "Imagem traffic_light_44_original.jpg com ruído aplicado e salva como traffic_light_44_original_noisy.jpg\n",
      "Imagem traffic_light_45_original.jpg com ruído aplicado e salva como traffic_light_45_original_noisy.jpg\n",
      "Imagem traffic_light_4_original.jpg com ruído aplicado e salva como traffic_light_4_original_noisy.jpg\n",
      "Imagem traffic_light_50_original(1).jpg com ruído aplicado e salva como traffic_light_50_original(1)_noisy.jpg\n",
      "Imagem traffic_light_50_original.jpg com ruído aplicado e salva como traffic_light_50_original_noisy.jpg\n",
      "Imagem traffic_light_52_original.jpg com ruído aplicado e salva como traffic_light_52_original_noisy.jpg\n",
      "Imagem traffic_light_55_original(1).jpg com ruído aplicado e salva como traffic_light_55_original(1)_noisy.jpg\n",
      "Imagem traffic_light_55_original(2).jpg com ruído aplicado e salva como traffic_light_55_original(2)_noisy.jpg\n",
      "Imagem traffic_light_55_original.jpg com ruído aplicado e salva como traffic_light_55_original_noisy.jpg\n",
      "Imagem traffic_light_64_original(1).jpg com ruído aplicado e salva como traffic_light_64_original(1)_noisy.jpg\n",
      "Imagem traffic_light_64_original.jpg com ruído aplicado e salva como traffic_light_64_original_noisy.jpg\n",
      "Imagem traffic_light_66_original(1).jpg com ruído aplicado e salva como traffic_light_66_original(1)_noisy.jpg\n",
      "Imagem traffic_light_66_original(2).jpg com ruído aplicado e salva como traffic_light_66_original(2)_noisy.jpg\n",
      "Imagem traffic_light_66_original(3).jpg com ruído aplicado e salva como traffic_light_66_original(3)_noisy.jpg\n",
      "Imagem traffic_light_66_original(4).jpg com ruído aplicado e salva como traffic_light_66_original(4)_noisy.jpg\n",
      "Imagem traffic_light_66_original(5).jpg com ruído aplicado e salva como traffic_light_66_original(5)_noisy.jpg\n",
      "Imagem traffic_light_66_original.jpg com ruído aplicado e salva como traffic_light_66_original_noisy.jpg\n",
      "Imagem traffic_light_72_original(1).jpg com ruído aplicado e salva como traffic_light_72_original(1)_noisy.jpg\n",
      "Imagem traffic_light_72_original.jpg com ruído aplicado e salva como traffic_light_72_original_noisy.jpg\n",
      "Imagem traffic_light_75_original(1).jpg com ruído aplicado e salva como traffic_light_75_original(1)_noisy.jpg\n",
      "Imagem traffic_light_75_original.jpg com ruído aplicado e salva como traffic_light_75_original_noisy.jpg\n",
      "Imagem traffic_light_78_original(1).jpg com ruído aplicado e salva como traffic_light_78_original(1)_noisy.jpg\n",
      "Imagem traffic_light_78_original(2).jpg com ruído aplicado e salva como traffic_light_78_original(2)_noisy.jpg\n",
      "Imagem traffic_light_78_original(3).jpg com ruído aplicado e salva como traffic_light_78_original(3)_noisy.jpg\n",
      "Imagem traffic_light_78_original(4).jpg com ruído aplicado e salva como traffic_light_78_original(4)_noisy.jpg\n",
      "Imagem traffic_light_78_original(5).jpg com ruído aplicado e salva como traffic_light_78_original(5)_noisy.jpg\n",
      "Imagem traffic_light_78_original.jpg com ruído aplicado e salva como traffic_light_78_original_noisy.jpg\n",
      "Imagem traffic_light_82_original.jpg com ruído aplicado e salva como traffic_light_82_original_noisy.jpg\n",
      "Imagem traffic_light_86_original(1).jpg com ruído aplicado e salva como traffic_light_86_original(1)_noisy.jpg\n",
      "Imagem traffic_light_86_original(2).jpg com ruído aplicado e salva como traffic_light_86_original(2)_noisy.jpg\n",
      "Imagem traffic_light_86_original.jpg com ruído aplicado e salva como traffic_light_86_original_noisy.jpg\n",
      "Imagem traffic_light_8_original.jpg com ruído aplicado e salva como traffic_light_8_original_noisy.jpg\n",
      "Imagem traffic_light_90_original(1).jpg com ruído aplicado e salva como traffic_light_90_original(1)_noisy.jpg\n",
      "Imagem traffic_light_90_original(2).jpg com ruído aplicado e salva como traffic_light_90_original(2)_noisy.jpg\n",
      "Imagem traffic_light_90_original(3).jpg com ruído aplicado e salva como traffic_light_90_original(3)_noisy.jpg\n",
      "Imagem traffic_light_90_original.jpg com ruído aplicado e salva como traffic_light_90_original_noisy.jpg\n",
      "Imagem traffic_light_95_original(1).jpg com ruído aplicado e salva como traffic_light_95_original(1)_noisy.jpg\n",
      "Imagem traffic_light_95_original(2).jpg com ruído aplicado e salva como traffic_light_95_original(2)_noisy.jpg\n",
      "Imagem traffic_light_95_original(3).jpg com ruído aplicado e salva como traffic_light_95_original(3)_noisy.jpg\n",
      "Imagem traffic_light_95_original.jpg com ruído aplicado e salva como traffic_light_95_original_noisy.jpg\n",
      "Imagem traffic_light_97_original(1).jpg com ruído aplicado e salva como traffic_light_97_original(1)_noisy.jpg\n",
      "Imagem traffic_light_97_original.jpg com ruído aplicado e salva como traffic_light_97_original_noisy.jpg\n",
      "Imagem traffic_light_98_original(1).jpg com ruído aplicado e salva como traffic_light_98_original(1)_noisy.jpg\n",
      "Imagem traffic_light_98_original.jpg com ruído aplicado e salva como traffic_light_98_original_noisy.jpg\n",
      "Imagem traffic_light_99_original(1).jpg com ruído aplicado e salva como traffic_light_99_original(1)_noisy.jpg\n",
      "Imagem traffic_light_99_original(2).jpg com ruído aplicado e salva como traffic_light_99_original(2)_noisy.jpg\n",
      "Imagem traffic_light_99_original.jpg com ruído aplicado e salva como traffic_light_99_original_noisy.jpg\n"
     ]
    }
   ],
   "source": [
    "import os\n",
    "import cv2\n",
    "import numpy as np\n",
    "\n",
    "def add_noise_to_images(input_folder, output_folder, noise_pctg, suffix='noisy'):\n",
    "    # Certifique-se de que a pasta de saída exista\n",
    "    if not os.path.exists(output_folder):\n",
    "        os.makedirs(output_folder)\n",
    "\n",
    "    # Listar arquivos na pasta de entrada\n",
    "    image_files = os.listdir(input_folder)\n",
    "\n",
    "    for image_file in image_files:\n",
    "        if image_file.endswith('.jpg'):\n",
    "            # Carregar a imagem original\n",
    "            image_path = os.path.join(input_folder, image_file)\n",
    "            image = cv2.imread(image_path)\n",
    "            \n",
    "            # Aplicar ruído à imagem inteira\n",
    "            image = cv2.cvtColor(image, cv2.COLOR_BGR2RGB)\n",
    "            image = image.astype(np.float32) / 255.0\n",
    "            noise = np.random.uniform(low=0.0, high=1.0, size=image.shape)\n",
    "            noise_mask = np.random.binomial(1, noise_pctg, size=image.shape[:-1])\n",
    "            noise_mask = np.expand_dims(noise_mask, axis=-1)\n",
    "            noise_mask = np.repeat(noise_mask, 3, axis=-1)\n",
    "            image = noise_mask * noise + (1 - noise_mask) * image\n",
    "            image = (image * 255.0).astype(np.uint8)\n",
    "\n",
    "            # Salvar a imagem com o novo nome\n",
    "            noisy_image_file = f\"{os.path.splitext(image_file)[0]}_{suffix}.jpg\"\n",
    "            noisy_image_path = os.path.join(output_folder, noisy_image_file)\n",
    "            cv2.imwrite(noisy_image_path, cv2.cvtColor(image, cv2.COLOR_RGB2BGR))\n",
    "            print(f\"Imagem {image_file} com ruído aplicado e salva como {noisy_image_file}\")\n",
    "\n",
    "# Exemplo de uso\n",
    "input_folder = \"../data/processed/outputs/semafaros/standard\"\n",
    "output_folder = \"../data/processed/outputs/semafaros/noisy\"\n",
    "noise_pctg = 0.3  # Porcentagem de ruído a ser aplicada\n",
    "add_noise_to_images(input_folder, output_folder, noise_pctg)\n"
   ]
  }
 ],
 "metadata": {
  "kernelspec": {
   "display_name": "Python 3",
   "language": "python",
   "name": "python3"
  },
  "language_info": {
   "codemirror_mode": {
    "name": "ipython",
    "version": 3
   },
   "file_extension": ".py",
   "mimetype": "text/x-python",
   "name": "python",
   "nbconvert_exporter": "python",
   "pygments_lexer": "ipython3",
   "version": "3.11.5"
  },
  "orig_nbformat": 4
 },
 "nbformat": 4,
 "nbformat_minor": 2
}
