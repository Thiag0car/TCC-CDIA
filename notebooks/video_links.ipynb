{
 "cells": [
  {
   "cell_type": "code",
   "execution_count": 1,
   "metadata": {},
   "outputs": [],
   "source": [
    "links = [\"https://www.youtube.com/watch?v=i2_sdST1DCc&ab_channel=DrivingAround\", \n",
    "         \"https://www.youtube.com/watch?v=39eKuBwiOv0&ab_channel=JUtah\",\n",
    "         \"https://www.youtube.com/watch?v=Ov20nnpYDns&ab_channel=S%C3%A3oPauloUrbana\",\n",
    "         \"https://www.youtube.com/watch?v=7YzhCSci64I&ab_channel=Paponovolante\"\n",
    "         ]"
   ]
  },
  {
   "cell_type": "code",
   "execution_count": 2,
   "metadata": {},
   "outputs": [
    {
     "name": "stdout",
     "output_type": "stream",
     "text": [
      "https://www.youtube.com/watch?v=i2_sdST1DCc&ab_channel=DrivingAround\n",
      "https://www.youtube.com/watch?v=39eKuBwiOv0&ab_channel=JUtah\n",
      "https://www.youtube.com/watch?v=Ov20nnpYDns&ab_channel=S%C3%A3oPauloUrbana\n",
      "https://www.youtube.com/watch?v=7YzhCSci64I&ab_channel=Paponovolante\n"
     ]
    }
   ],
   "source": [
    "for link in links:\n",
    "    print(link)"
   ]
  },
  {
   "cell_type": "code",
   "execution_count": 4,
   "metadata": {},
   "outputs": [
    {
     "data": {
      "text/plain": [
       "True"
      ]
     },
     "execution_count": 4,
     "metadata": {},
     "output_type": "execute_result"
    }
   ],
   "source": []
  },
  {
   "cell_type": "code",
   "execution_count": null,
   "metadata": {},
   "outputs": [],
   "source": []
  }
 ],
 "metadata": {
  "kernelspec": {
   "display_name": "Python 3",
   "language": "python",
   "name": "python3"
  },
  "language_info": {
   "codemirror_mode": {
    "name": "ipython",
    "version": 3
   },
   "file_extension": ".py",
   "mimetype": "text/x-python",
   "name": "python",
   "nbconvert_exporter": "python",
   "pygments_lexer": "ipython3",
   "version": "3.11.4"
  },
  "orig_nbformat": 4
 },
 "nbformat": 4,
 "nbformat_minor": 2
}
